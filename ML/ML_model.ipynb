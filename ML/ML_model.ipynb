{
 "cells": [
  {
   "cell_type": "code",
   "execution_count": 1,
   "id": "8c837ffb-aabc-481d-981a-2bed96c1a350",
   "metadata": {
    "tags": []
   },
   "outputs": [],
   "source": [
    "import pandas as pd\n",
    "import seaborn as sns\n",
    "import numpy as np\n",
    "import matplotlib.pyplot as plt\n",
    "from variables import *"
   ]
  },
  {
   "cell_type": "markdown",
   "id": "0d8f9b14-b396-4f95-9936-664f1b5a2c82",
   "metadata": {},
   "source": [
    "# DATA EXPLORATION"
   ]
  },
  {
   "cell_type": "code",
   "execution_count": 2,
   "id": "09bee10f-4288-4f74-8a53-db343f227152",
   "metadata": {
    "tags": []
   },
   "outputs": [
    {
     "data": {
      "text/html": [
       "<div>\n",
       "<style scoped>\n",
       "    .dataframe tbody tr th:only-of-type {\n",
       "        vertical-align: middle;\n",
       "    }\n",
       "\n",
       "    .dataframe tbody tr th {\n",
       "        vertical-align: top;\n",
       "    }\n",
       "\n",
       "    .dataframe thead th {\n",
       "        text-align: right;\n",
       "    }\n",
       "</style>\n",
       "<table border=\"1\" class=\"dataframe\">\n",
       "  <thead>\n",
       "    <tr style=\"text-align: right;\">\n",
       "      <th></th>\n",
       "      <th>folio</th>\n",
       "      <th>NumPersHog</th>\n",
       "      <th>NoED</th>\n",
       "      <th>EDBasic</th>\n",
       "      <th>EDMedia</th>\n",
       "      <th>EDLic</th>\n",
       "      <th>EDPost</th>\n",
       "      <th>EDNoesp</th>\n",
       "      <th>NoTienViv</th>\n",
       "      <th>VivPagada</th>\n",
       "      <th>...</th>\n",
       "      <th>Divorci</th>\n",
       "      <th>Viudo</th>\n",
       "      <th>Casado</th>\n",
       "      <th>Soltero</th>\n",
       "      <th>NoSabe</th>\n",
       "      <th>numDormi</th>\n",
       "      <th>numRoom</th>\n",
       "      <th>numbano</th>\n",
       "      <th>mtcuad</th>\n",
       "      <th>rentaviv</th>\n",
       "    </tr>\n",
       "  </thead>\n",
       "  <tbody>\n",
       "    <tr>\n",
       "      <th>0</th>\n",
       "      <td>1</td>\n",
       "      <td>2</td>\n",
       "      <td>0</td>\n",
       "      <td>1</td>\n",
       "      <td>0</td>\n",
       "      <td>0</td>\n",
       "      <td>0</td>\n",
       "      <td>0</td>\n",
       "      <td>0</td>\n",
       "      <td>0</td>\n",
       "      <td>...</td>\n",
       "      <td>0</td>\n",
       "      <td>0</td>\n",
       "      <td>1</td>\n",
       "      <td>0</td>\n",
       "      <td>0</td>\n",
       "      <td>2</td>\n",
       "      <td>5</td>\n",
       "      <td>1</td>\n",
       "      <td>233</td>\n",
       "      <td>0</td>\n",
       "    </tr>\n",
       "    <tr>\n",
       "      <th>1</th>\n",
       "      <td>2</td>\n",
       "      <td>1</td>\n",
       "      <td>0</td>\n",
       "      <td>0</td>\n",
       "      <td>1</td>\n",
       "      <td>0</td>\n",
       "      <td>0</td>\n",
       "      <td>0</td>\n",
       "      <td>0</td>\n",
       "      <td>1</td>\n",
       "      <td>...</td>\n",
       "      <td>0</td>\n",
       "      <td>0</td>\n",
       "      <td>0</td>\n",
       "      <td>1</td>\n",
       "      <td>0</td>\n",
       "      <td>4</td>\n",
       "      <td>6</td>\n",
       "      <td>2</td>\n",
       "      <td>175</td>\n",
       "      <td>0</td>\n",
       "    </tr>\n",
       "    <tr>\n",
       "      <th>2</th>\n",
       "      <td>3</td>\n",
       "      <td>3</td>\n",
       "      <td>0</td>\n",
       "      <td>0</td>\n",
       "      <td>0</td>\n",
       "      <td>1</td>\n",
       "      <td>0</td>\n",
       "      <td>0</td>\n",
       "      <td>0</td>\n",
       "      <td>0</td>\n",
       "      <td>...</td>\n",
       "      <td>0</td>\n",
       "      <td>0</td>\n",
       "      <td>0</td>\n",
       "      <td>1</td>\n",
       "      <td>0</td>\n",
       "      <td>3</td>\n",
       "      <td>5</td>\n",
       "      <td>3</td>\n",
       "      <td>233</td>\n",
       "      <td>0</td>\n",
       "    </tr>\n",
       "    <tr>\n",
       "      <th>3</th>\n",
       "      <td>4</td>\n",
       "      <td>3</td>\n",
       "      <td>1</td>\n",
       "      <td>0</td>\n",
       "      <td>0</td>\n",
       "      <td>0</td>\n",
       "      <td>0</td>\n",
       "      <td>0</td>\n",
       "      <td>0</td>\n",
       "      <td>0</td>\n",
       "      <td>...</td>\n",
       "      <td>0</td>\n",
       "      <td>1</td>\n",
       "      <td>0</td>\n",
       "      <td>0</td>\n",
       "      <td>0</td>\n",
       "      <td>3</td>\n",
       "      <td>6</td>\n",
       "      <td>2</td>\n",
       "      <td>157</td>\n",
       "      <td>0</td>\n",
       "    </tr>\n",
       "    <tr>\n",
       "      <th>4</th>\n",
       "      <td>5</td>\n",
       "      <td>6</td>\n",
       "      <td>0</td>\n",
       "      <td>1</td>\n",
       "      <td>0</td>\n",
       "      <td>0</td>\n",
       "      <td>0</td>\n",
       "      <td>0</td>\n",
       "      <td>0</td>\n",
       "      <td>1</td>\n",
       "      <td>...</td>\n",
       "      <td>0</td>\n",
       "      <td>1</td>\n",
       "      <td>0</td>\n",
       "      <td>0</td>\n",
       "      <td>0</td>\n",
       "      <td>5</td>\n",
       "      <td>6</td>\n",
       "      <td>1</td>\n",
       "      <td>66</td>\n",
       "      <td>0</td>\n",
       "    </tr>\n",
       "  </tbody>\n",
       "</table>\n",
       "<p>5 rows × 63 columns</p>\n",
       "</div>"
      ],
      "text/plain": [
       "   folio  NumPersHog  NoED  EDBasic  EDMedia  EDLic  EDPost  EDNoesp  \\\n",
       "0      1           2     0        1        0      0       0        0   \n",
       "1      2           1     0        0        1      0       0        0   \n",
       "2      3           3     0        0        0      1       0        0   \n",
       "3      4           3     1        0        0      0       0        0   \n",
       "4      5           6     0        1        0      0       0        0   \n",
       "\n",
       "   NoTienViv  VivPagada  ...  Divorci  Viudo  Casado  Soltero  NoSabe  \\\n",
       "0          0          0  ...        0      0       1        0       0   \n",
       "1          0          1  ...        0      0       0        1       0   \n",
       "2          0          0  ...        0      0       0        1       0   \n",
       "3          0          0  ...        0      1       0        0       0   \n",
       "4          0          1  ...        0      1       0        0       0   \n",
       "\n",
       "   numDormi  numRoom  numbano  mtcuad  rentaviv  \n",
       "0         2        5        1     233         0  \n",
       "1         4        6        2     175         0  \n",
       "2         3        5        3     233         0  \n",
       "3         3        6        2     157         0  \n",
       "4         5        6        1      66         0  \n",
       "\n",
       "[5 rows x 63 columns]"
      ]
     },
     "execution_count": 2,
     "metadata": {},
     "output_type": "execute_result"
    }
   ],
   "source": [
    "pathr = PATH_ML\n",
    "df = pd.read_csv(pathr)\n",
    "df.head()"
   ]
  },
  {
   "cell_type": "code",
   "execution_count": 3,
   "id": "b84bf7f3-cd18-4301-98f0-797691e7e1bb",
   "metadata": {
    "tags": []
   },
   "outputs": [
    {
     "data": {
      "text/plain": [
       "folio         int64\n",
       "NumPersHog    int64\n",
       "NoED          int64\n",
       "EDBasic       int64\n",
       "EDMedia       int64\n",
       "              ...  \n",
       "numDormi      int64\n",
       "numRoom       int64\n",
       "numbano       int64\n",
       "mtcuad        int64\n",
       "rentaviv      int64\n",
       "Length: 63, dtype: object"
      ]
     },
     "execution_count": 3,
     "metadata": {},
     "output_type": "execute_result"
    }
   ],
   "source": [
    "# We check for the variable types of the columns, we see that all are numeric\n",
    "df.dtypes"
   ]
  },
  {
   "cell_type": "code",
   "execution_count": 4,
   "id": "746695c5-d8db-493d-9a0b-53647cc26546",
   "metadata": {
    "scrolled": true,
    "tags": []
   },
   "outputs": [],
   "source": [
    "df.set_index('folio', inplace=True)\n"
   ]
  },
  {
   "cell_type": "code",
   "execution_count": 5,
   "id": "e0b40f32-73a9-4dc9-96a8-e3d5cab722da",
   "metadata": {
    "tags": []
   },
   "outputs": [],
   "source": [
    "# Create a new column 'EducationLevel' based on the given conditions\n",
    "df['EducationLevel'] = np.select(\n",
    "    [\n",
    "        df['EDPost'] == 1,\n",
    "        df['EDLic'] == 1,\n",
    "        df['EDMedia'] == 1,\n",
    "        df['EDNoesp'] == 1,\n",
    "        df['EDBasic'] == 1,\n",
    "        df['NoED'] == 1\n",
    "    ],\n",
    "    [5, 4, 3, 2, 1, 0],\n",
    "    default=np.nan  \n",
    ")\n",
    "\n",
    "# Drop the original education columns if needed\n",
    "df = df.drop(['EDPost', 'EDLic', 'EDMedia', 'EDBasic', 'EDNoesp', 'NoED'], axis=1)\n",
    "# Convert the 'EducationLevel' column to a categorical type\n",
    "# df['EducationLevel'] = df['EducationLevel'].astype('category')\n"
   ]
  },
  {
   "cell_type": "code",
   "execution_count": 6,
   "id": "58e25d9f-015f-43d1-818b-be0f018206f4",
   "metadata": {
    "tags": []
   },
   "outputs": [
    {
     "data": {
      "text/html": [
       "<div>\n",
       "<style scoped>\n",
       "    .dataframe tbody tr th:only-of-type {\n",
       "        vertical-align: middle;\n",
       "    }\n",
       "\n",
       "    .dataframe tbody tr th {\n",
       "        vertical-align: top;\n",
       "    }\n",
       "\n",
       "    .dataframe thead th {\n",
       "        text-align: right;\n",
       "    }\n",
       "</style>\n",
       "<table border=\"1\" class=\"dataframe\">\n",
       "  <thead>\n",
       "    <tr style=\"text-align: right;\">\n",
       "      <th></th>\n",
       "      <th>NumPersHog</th>\n",
       "      <th>NoTienViv</th>\n",
       "      <th>VivPagada</th>\n",
       "      <th>VivPagan</th>\n",
       "      <th>VivRent</th>\n",
       "      <th>VivOther</th>\n",
       "      <th>NoOcup</th>\n",
       "      <th>Empleado</th>\n",
       "      <th>Jornalero</th>\n",
       "      <th>Patron</th>\n",
       "      <th>...</th>\n",
       "      <th>Viudo</th>\n",
       "      <th>Casado</th>\n",
       "      <th>Soltero</th>\n",
       "      <th>NoSabe</th>\n",
       "      <th>numDormi</th>\n",
       "      <th>numRoom</th>\n",
       "      <th>numbano</th>\n",
       "      <th>mtcuad</th>\n",
       "      <th>rentaviv</th>\n",
       "      <th>EducationLevel</th>\n",
       "    </tr>\n",
       "    <tr>\n",
       "      <th>folio</th>\n",
       "      <th></th>\n",
       "      <th></th>\n",
       "      <th></th>\n",
       "      <th></th>\n",
       "      <th></th>\n",
       "      <th></th>\n",
       "      <th></th>\n",
       "      <th></th>\n",
       "      <th></th>\n",
       "      <th></th>\n",
       "      <th></th>\n",
       "      <th></th>\n",
       "      <th></th>\n",
       "      <th></th>\n",
       "      <th></th>\n",
       "      <th></th>\n",
       "      <th></th>\n",
       "      <th></th>\n",
       "      <th></th>\n",
       "      <th></th>\n",
       "      <th></th>\n",
       "    </tr>\n",
       "  </thead>\n",
       "  <tbody>\n",
       "    <tr>\n",
       "      <th>1</th>\n",
       "      <td>2</td>\n",
       "      <td>0</td>\n",
       "      <td>0</td>\n",
       "      <td>1</td>\n",
       "      <td>0</td>\n",
       "      <td>0</td>\n",
       "      <td>0</td>\n",
       "      <td>0</td>\n",
       "      <td>1</td>\n",
       "      <td>0</td>\n",
       "      <td>...</td>\n",
       "      <td>0</td>\n",
       "      <td>1</td>\n",
       "      <td>0</td>\n",
       "      <td>0</td>\n",
       "      <td>2</td>\n",
       "      <td>5</td>\n",
       "      <td>1</td>\n",
       "      <td>233</td>\n",
       "      <td>0</td>\n",
       "      <td>1.0</td>\n",
       "    </tr>\n",
       "    <tr>\n",
       "      <th>2</th>\n",
       "      <td>1</td>\n",
       "      <td>0</td>\n",
       "      <td>1</td>\n",
       "      <td>0</td>\n",
       "      <td>0</td>\n",
       "      <td>0</td>\n",
       "      <td>0</td>\n",
       "      <td>1</td>\n",
       "      <td>0</td>\n",
       "      <td>0</td>\n",
       "      <td>...</td>\n",
       "      <td>0</td>\n",
       "      <td>0</td>\n",
       "      <td>1</td>\n",
       "      <td>0</td>\n",
       "      <td>4</td>\n",
       "      <td>6</td>\n",
       "      <td>2</td>\n",
       "      <td>175</td>\n",
       "      <td>0</td>\n",
       "      <td>3.0</td>\n",
       "    </tr>\n",
       "    <tr>\n",
       "      <th>3</th>\n",
       "      <td>3</td>\n",
       "      <td>0</td>\n",
       "      <td>0</td>\n",
       "      <td>0</td>\n",
       "      <td>0</td>\n",
       "      <td>1</td>\n",
       "      <td>0</td>\n",
       "      <td>0</td>\n",
       "      <td>0</td>\n",
       "      <td>0</td>\n",
       "      <td>...</td>\n",
       "      <td>0</td>\n",
       "      <td>0</td>\n",
       "      <td>1</td>\n",
       "      <td>0</td>\n",
       "      <td>3</td>\n",
       "      <td>5</td>\n",
       "      <td>3</td>\n",
       "      <td>233</td>\n",
       "      <td>0</td>\n",
       "      <td>4.0</td>\n",
       "    </tr>\n",
       "    <tr>\n",
       "      <th>4</th>\n",
       "      <td>3</td>\n",
       "      <td>0</td>\n",
       "      <td>0</td>\n",
       "      <td>1</td>\n",
       "      <td>0</td>\n",
       "      <td>0</td>\n",
       "      <td>0</td>\n",
       "      <td>0</td>\n",
       "      <td>1</td>\n",
       "      <td>0</td>\n",
       "      <td>...</td>\n",
       "      <td>1</td>\n",
       "      <td>0</td>\n",
       "      <td>0</td>\n",
       "      <td>0</td>\n",
       "      <td>3</td>\n",
       "      <td>6</td>\n",
       "      <td>2</td>\n",
       "      <td>157</td>\n",
       "      <td>0</td>\n",
       "      <td>0.0</td>\n",
       "    </tr>\n",
       "    <tr>\n",
       "      <th>5</th>\n",
       "      <td>6</td>\n",
       "      <td>0</td>\n",
       "      <td>1</td>\n",
       "      <td>0</td>\n",
       "      <td>0</td>\n",
       "      <td>0</td>\n",
       "      <td>0</td>\n",
       "      <td>1</td>\n",
       "      <td>0</td>\n",
       "      <td>0</td>\n",
       "      <td>...</td>\n",
       "      <td>1</td>\n",
       "      <td>0</td>\n",
       "      <td>0</td>\n",
       "      <td>0</td>\n",
       "      <td>5</td>\n",
       "      <td>6</td>\n",
       "      <td>1</td>\n",
       "      <td>66</td>\n",
       "      <td>0</td>\n",
       "      <td>1.0</td>\n",
       "    </tr>\n",
       "    <tr>\n",
       "      <th>6</th>\n",
       "      <td>2</td>\n",
       "      <td>0</td>\n",
       "      <td>0</td>\n",
       "      <td>0</td>\n",
       "      <td>0</td>\n",
       "      <td>1</td>\n",
       "      <td>0</td>\n",
       "      <td>0</td>\n",
       "      <td>0</td>\n",
       "      <td>0</td>\n",
       "      <td>...</td>\n",
       "      <td>1</td>\n",
       "      <td>0</td>\n",
       "      <td>0</td>\n",
       "      <td>0</td>\n",
       "      <td>4</td>\n",
       "      <td>5</td>\n",
       "      <td>1</td>\n",
       "      <td>59</td>\n",
       "      <td>0</td>\n",
       "      <td>1.0</td>\n",
       "    </tr>\n",
       "    <tr>\n",
       "      <th>7</th>\n",
       "      <td>1</td>\n",
       "      <td>0</td>\n",
       "      <td>0</td>\n",
       "      <td>0</td>\n",
       "      <td>0</td>\n",
       "      <td>1</td>\n",
       "      <td>0</td>\n",
       "      <td>0</td>\n",
       "      <td>0</td>\n",
       "      <td>0</td>\n",
       "      <td>...</td>\n",
       "      <td>0</td>\n",
       "      <td>1</td>\n",
       "      <td>0</td>\n",
       "      <td>0</td>\n",
       "      <td>4</td>\n",
       "      <td>7</td>\n",
       "      <td>2</td>\n",
       "      <td>233</td>\n",
       "      <td>0</td>\n",
       "      <td>1.0</td>\n",
       "    </tr>\n",
       "  </tbody>\n",
       "</table>\n",
       "<p>7 rows × 57 columns</p>\n",
       "</div>"
      ],
      "text/plain": [
       "       NumPersHog  NoTienViv  VivPagada  VivPagan  VivRent  VivOther  NoOcup  \\\n",
       "folio                                                                          \n",
       "1               2          0          0         1        0         0       0   \n",
       "2               1          0          1         0        0         0       0   \n",
       "3               3          0          0         0        0         1       0   \n",
       "4               3          0          0         1        0         0       0   \n",
       "5               6          0          1         0        0         0       0   \n",
       "6               2          0          0         0        0         1       0   \n",
       "7               1          0          0         0        0         1       0   \n",
       "\n",
       "       Empleado  Jornalero  Patron  ...  Viudo  Casado  Soltero  NoSabe  \\\n",
       "folio                               ...                                   \n",
       "1             0          1       0  ...      0       1        0       0   \n",
       "2             1          0       0  ...      0       0        1       0   \n",
       "3             0          0       0  ...      0       0        1       0   \n",
       "4             0          1       0  ...      1       0        0       0   \n",
       "5             1          0       0  ...      1       0        0       0   \n",
       "6             0          0       0  ...      1       0        0       0   \n",
       "7             0          0       0  ...      0       1        0       0   \n",
       "\n",
       "       numDormi  numRoom  numbano  mtcuad  rentaviv  EducationLevel  \n",
       "folio                                                                \n",
       "1             2        5        1     233         0             1.0  \n",
       "2             4        6        2     175         0             3.0  \n",
       "3             3        5        3     233         0             4.0  \n",
       "4             3        6        2     157         0             0.0  \n",
       "5             5        6        1      66         0             1.0  \n",
       "6             4        5        1      59         0             1.0  \n",
       "7             4        7        2     233         0             1.0  \n",
       "\n",
       "[7 rows x 57 columns]"
      ]
     },
     "execution_count": 6,
     "metadata": {},
     "output_type": "execute_result"
    }
   ],
   "source": [
    "df.head(7)"
   ]
  },
  {
   "cell_type": "code",
   "execution_count": 7,
   "id": "91566960-f794-4cdf-b129-e93320dd25ea",
   "metadata": {
    "tags": []
   },
   "outputs": [],
   "source": [
    "df['Employee'] = np.select(\n",
    "    [\n",
    "        df['Empleado'] == 1,\n",
    "        df['FamWorker'] == 1,\n",
    "        df['Jornalero'] == 1,\n",
    "        df['NoOcup'] == 1,\n",
    "        df['Patron'] ==1,\n",
    "    ],\n",
    "    [1, 1, 1, 0, 1],\n",
    "    default = 0  # You can adjust the default value based on your preference\n",
    ")\n",
    "\n",
    "df = df.drop(['Empleado', 'FamWorker', 'Jornalero','NoOcup'], axis=1)\n",
    "    \n"
   ]
  },
  {
   "cell_type": "code",
   "execution_count": 8,
   "id": "02d6543d-6826-4c9e-888a-dcc0083add2b",
   "metadata": {
    "tags": []
   },
   "outputs": [
    {
     "data": {
      "text/html": [
       "<div>\n",
       "<style scoped>\n",
       "    .dataframe tbody tr th:only-of-type {\n",
       "        vertical-align: middle;\n",
       "    }\n",
       "\n",
       "    .dataframe tbody tr th {\n",
       "        vertical-align: top;\n",
       "    }\n",
       "\n",
       "    .dataframe thead th {\n",
       "        text-align: right;\n",
       "    }\n",
       "</style>\n",
       "<table border=\"1\" class=\"dataframe\">\n",
       "  <thead>\n",
       "    <tr style=\"text-align: right;\">\n",
       "      <th></th>\n",
       "      <th>NumPersHog</th>\n",
       "      <th>NoTienViv</th>\n",
       "      <th>VivPagada</th>\n",
       "      <th>VivPagan</th>\n",
       "      <th>VivRent</th>\n",
       "      <th>VivOther</th>\n",
       "      <th>Patron</th>\n",
       "      <th>Emprend</th>\n",
       "      <th>MontCuentNomi</th>\n",
       "      <th>MontCuentAhorro</th>\n",
       "      <th>...</th>\n",
       "      <th>Casado</th>\n",
       "      <th>Soltero</th>\n",
       "      <th>NoSabe</th>\n",
       "      <th>numDormi</th>\n",
       "      <th>numRoom</th>\n",
       "      <th>numbano</th>\n",
       "      <th>mtcuad</th>\n",
       "      <th>rentaviv</th>\n",
       "      <th>EducationLevel</th>\n",
       "      <th>Employee</th>\n",
       "    </tr>\n",
       "    <tr>\n",
       "      <th>folio</th>\n",
       "      <th></th>\n",
       "      <th></th>\n",
       "      <th></th>\n",
       "      <th></th>\n",
       "      <th></th>\n",
       "      <th></th>\n",
       "      <th></th>\n",
       "      <th></th>\n",
       "      <th></th>\n",
       "      <th></th>\n",
       "      <th></th>\n",
       "      <th></th>\n",
       "      <th></th>\n",
       "      <th></th>\n",
       "      <th></th>\n",
       "      <th></th>\n",
       "      <th></th>\n",
       "      <th></th>\n",
       "      <th></th>\n",
       "      <th></th>\n",
       "      <th></th>\n",
       "    </tr>\n",
       "  </thead>\n",
       "  <tbody>\n",
       "    <tr>\n",
       "      <th>1</th>\n",
       "      <td>2</td>\n",
       "      <td>0</td>\n",
       "      <td>0</td>\n",
       "      <td>1</td>\n",
       "      <td>0</td>\n",
       "      <td>0</td>\n",
       "      <td>0</td>\n",
       "      <td>0</td>\n",
       "      <td>0</td>\n",
       "      <td>0</td>\n",
       "      <td>...</td>\n",
       "      <td>1</td>\n",
       "      <td>0</td>\n",
       "      <td>0</td>\n",
       "      <td>2</td>\n",
       "      <td>5</td>\n",
       "      <td>1</td>\n",
       "      <td>233</td>\n",
       "      <td>0</td>\n",
       "      <td>1.0</td>\n",
       "      <td>1</td>\n",
       "    </tr>\n",
       "    <tr>\n",
       "      <th>2</th>\n",
       "      <td>1</td>\n",
       "      <td>0</td>\n",
       "      <td>1</td>\n",
       "      <td>0</td>\n",
       "      <td>0</td>\n",
       "      <td>0</td>\n",
       "      <td>0</td>\n",
       "      <td>0</td>\n",
       "      <td>0</td>\n",
       "      <td>0</td>\n",
       "      <td>...</td>\n",
       "      <td>0</td>\n",
       "      <td>1</td>\n",
       "      <td>0</td>\n",
       "      <td>4</td>\n",
       "      <td>6</td>\n",
       "      <td>2</td>\n",
       "      <td>175</td>\n",
       "      <td>0</td>\n",
       "      <td>3.0</td>\n",
       "      <td>1</td>\n",
       "    </tr>\n",
       "    <tr>\n",
       "      <th>3</th>\n",
       "      <td>3</td>\n",
       "      <td>0</td>\n",
       "      <td>0</td>\n",
       "      <td>0</td>\n",
       "      <td>0</td>\n",
       "      <td>1</td>\n",
       "      <td>0</td>\n",
       "      <td>1</td>\n",
       "      <td>0</td>\n",
       "      <td>5000</td>\n",
       "      <td>...</td>\n",
       "      <td>0</td>\n",
       "      <td>1</td>\n",
       "      <td>0</td>\n",
       "      <td>3</td>\n",
       "      <td>5</td>\n",
       "      <td>3</td>\n",
       "      <td>233</td>\n",
       "      <td>0</td>\n",
       "      <td>4.0</td>\n",
       "      <td>0</td>\n",
       "    </tr>\n",
       "    <tr>\n",
       "      <th>4</th>\n",
       "      <td>3</td>\n",
       "      <td>0</td>\n",
       "      <td>0</td>\n",
       "      <td>1</td>\n",
       "      <td>0</td>\n",
       "      <td>0</td>\n",
       "      <td>0</td>\n",
       "      <td>0</td>\n",
       "      <td>0</td>\n",
       "      <td>0</td>\n",
       "      <td>...</td>\n",
       "      <td>0</td>\n",
       "      <td>0</td>\n",
       "      <td>0</td>\n",
       "      <td>3</td>\n",
       "      <td>6</td>\n",
       "      <td>2</td>\n",
       "      <td>157</td>\n",
       "      <td>0</td>\n",
       "      <td>0.0</td>\n",
       "      <td>1</td>\n",
       "    </tr>\n",
       "    <tr>\n",
       "      <th>5</th>\n",
       "      <td>6</td>\n",
       "      <td>0</td>\n",
       "      <td>1</td>\n",
       "      <td>0</td>\n",
       "      <td>0</td>\n",
       "      <td>0</td>\n",
       "      <td>0</td>\n",
       "      <td>0</td>\n",
       "      <td>300</td>\n",
       "      <td>0</td>\n",
       "      <td>...</td>\n",
       "      <td>0</td>\n",
       "      <td>0</td>\n",
       "      <td>0</td>\n",
       "      <td>5</td>\n",
       "      <td>6</td>\n",
       "      <td>1</td>\n",
       "      <td>66</td>\n",
       "      <td>0</td>\n",
       "      <td>1.0</td>\n",
       "      <td>1</td>\n",
       "    </tr>\n",
       "  </tbody>\n",
       "</table>\n",
       "<p>5 rows × 54 columns</p>\n",
       "</div>"
      ],
      "text/plain": [
       "       NumPersHog  NoTienViv  VivPagada  VivPagan  VivRent  VivOther  Patron  \\\n",
       "folio                                                                          \n",
       "1               2          0          0         1        0         0       0   \n",
       "2               1          0          1         0        0         0       0   \n",
       "3               3          0          0         0        0         1       0   \n",
       "4               3          0          0         1        0         0       0   \n",
       "5               6          0          1         0        0         0       0   \n",
       "\n",
       "       Emprend  MontCuentNomi  MontCuentAhorro  ...  Casado  Soltero  NoSabe  \\\n",
       "folio                                           ...                            \n",
       "1            0              0                0  ...       1        0       0   \n",
       "2            0              0                0  ...       0        1       0   \n",
       "3            1              0             5000  ...       0        1       0   \n",
       "4            0              0                0  ...       0        0       0   \n",
       "5            0            300                0  ...       0        0       0   \n",
       "\n",
       "       numDormi  numRoom  numbano  mtcuad  rentaviv  EducationLevel  Employee  \n",
       "folio                                                                          \n",
       "1             2        5        1     233         0             1.0         1  \n",
       "2             4        6        2     175         0             3.0         1  \n",
       "3             3        5        3     233         0             4.0         0  \n",
       "4             3        6        2     157         0             0.0         1  \n",
       "5             5        6        1      66         0             1.0         1  \n",
       "\n",
       "[5 rows x 54 columns]"
      ]
     },
     "execution_count": 8,
     "metadata": {},
     "output_type": "execute_result"
    }
   ],
   "source": [
    " df.head()"
   ]
  },
  {
   "cell_type": "code",
   "execution_count": 9,
   "id": "d976f8af-a507-4cfa-b089-9005eeeacb4f",
   "metadata": {
    "collapsed": true,
    "jupyter": {
     "outputs_hidden": true
    },
    "tags": []
   },
   "outputs": [
    {
     "name": "stdout",
     "output_type": "stream",
     "text": [
      "<class 'pandas.core.frame.DataFrame'>\n",
      "Index: 20745 entries, 1 to 17386\n",
      "Data columns (total 54 columns):\n",
      " #   Column                  Non-Null Count  Dtype  \n",
      "---  ------                  --------------  -----  \n",
      " 0   NumPersHog              20745 non-null  int64  \n",
      " 1   NoTienViv               20745 non-null  int64  \n",
      " 2   VivPagada               20745 non-null  int64  \n",
      " 3   VivPagan                20745 non-null  int64  \n",
      " 4   VivRent                 20745 non-null  int64  \n",
      " 5   VivOther                20745 non-null  int64  \n",
      " 6   Patron                  20745 non-null  int64  \n",
      " 7   Emprend                 20745 non-null  int64  \n",
      " 8   MontCuentNomi           20745 non-null  int64  \n",
      " 9   MontCuentAhorro         20745 non-null  int64  \n",
      " 10  TienActivFin            20745 non-null  int64  \n",
      " 11  MontCuentGob            20745 non-null  int64  \n",
      " 12  MontCuentInv            20745 non-null  int64  \n",
      " 13  MontCuentAfore          20745 non-null  int64  \n",
      " 14  MontCuentAhorroInf      20745 non-null  int64  \n",
      " 15  TienActivNoFin          20745 non-null  int64  \n",
      " 16  ValVentActivNoFin       20745 non-null  int64  \n",
      " 17  ValVentViv              20745 non-null  int64  \n",
      " 18  ValVentBienProd         20745 non-null  int64  \n",
      " 19  ValVentVehic            20745 non-null  int64  \n",
      " 20  IngresoTotal            20745 non-null  int64  \n",
      " 21  RiquezaNeta             20745 non-null  int64  \n",
      " 22  MontDeudCredViv         20745 non-null  int64  \n",
      " 23  MontDeudCredNoHip       20745 non-null  int64  \n",
      " 24  MontDeudCredBanc_Depar  20745 non-null  int64  \n",
      " 25  MontDeudCredNom         20745 non-null  int64  \n",
      " 26  MontDeudCredAutos       20745 non-null  int64  \n",
      " 27  inversiones             20745 non-null  int64  \n",
      " 28  MontDeudOtrCred         20745 non-null  int64  \n",
      " 29  NoAdeudos               20745 non-null  int64  \n",
      " 30  RazDeudVivi             20745 non-null  float64\n",
      " 31  numautos                20745 non-null  int64  \n",
      " 32  nummotos                20745 non-null  int64  \n",
      " 33  numproperty             20745 non-null  int64  \n",
      " 34  businessowner           20745 non-null  int64  \n",
      " 35  numdepatar              20745 non-null  int64  \n",
      " 36  numcredtar              20745 non-null  int64  \n",
      " 37  Hombre                  20745 non-null  int64  \n",
      " 38  Mujer                   20745 non-null  int64  \n",
      " 39  edad                    20745 non-null  int64  \n",
      " 40  UnionL                  20745 non-null  int64  \n",
      " 41  Separado                20745 non-null  int64  \n",
      " 42  Divorci                 20745 non-null  int64  \n",
      " 43  Viudo                   20745 non-null  int64  \n",
      " 44  Casado                  20745 non-null  int64  \n",
      " 45  Soltero                 20745 non-null  int64  \n",
      " 46  NoSabe                  20745 non-null  int64  \n",
      " 47  numDormi                20745 non-null  int64  \n",
      " 48  numRoom                 20745 non-null  int64  \n",
      " 49  numbano                 20745 non-null  int64  \n",
      " 50  mtcuad                  20745 non-null  int64  \n",
      " 51  rentaviv                20745 non-null  int64  \n",
      " 52  EducationLevel          20745 non-null  float64\n",
      " 53  Employee                20745 non-null  int32  \n",
      "dtypes: float64(2), int32(1), int64(51)\n",
      "memory usage: 8.6 MB\n",
      "None\n"
     ]
    }
   ],
   "source": [
    "print(df.info())"
   ]
  },
  {
   "cell_type": "markdown",
   "id": "c8629bbf-bb61-48b0-ab53-8025a1d2a150",
   "metadata": {},
   "source": [
    "# DATA EXPLANATION\n",
    "\n",
    "## DEMOGRAPHIC DATA\n",
    " * Hombre (Boolean for sex)\n",
    " * Mujer  (Boolean for sex)\n",
    " * Edad (age)\n",
    " * Civil status (boolean columns - 1 yes, 0 no):\n",
    "     - UnionL (Non Married union)\n",
    "     - Separado (Separated) \n",
    "     - Divorci (Divorced)\n",
    "     - Viudo (Widowed)\n",
    "     - Casado (Married) \n",
    "     - Soltero (Single) \n",
    "     - NoSabe (Doesn't know)\n",
    "     \n",
    "* Education level (int columns):\n",
    "     - NoED (No education) - 0\n",
    "     - EDBasic (Basic Education) - 1\n",
    "     - EDNoesp (No especified) - 2\n",
    "     - EDMedia (Intermediate Education) - 3\n",
    "     - EDLic (Bachelor's level) - 4\n",
    "     - EDPost (Post graduate level) - 5\n",
    "\n",
    "\n",
    "* Ocupation (boolean columns):\n",
    "    - NoOcup (No ocupation)\n",
    "    - Empleado (Employed) \n",
    "    - Jornalero (Worker) \n",
    "    - Patron (Employer)\n",
    "    - Emprend (Entrepeneur)\n",
    "    - FamWorke (Family Worker)\n",
    "    \n",
    " \n",
    " \n",
    " "
   ]
  },
  {
   "cell_type": "markdown",
   "id": "bfe7b392-78e7-4d7d-874e-656928bde6b6",
   "metadata": {
    "tags": []
   },
   "source": [
    "## HOUSEHOLD DATA\n",
    "* NumPersHog (# of people in the household)\n",
    "* numDormi (# of sleep rooms)\n",
    "* numRoom (# of rooms)\n",
    "* numBano (# of bathrooms)\n",
    "* mtcuad (Household's Square meters )\n",
    "* rentaviv (How much pay for rent)\n",
    "* Household status (boolean columns):\n",
    "    - NoTienViv (Does not have household)\n",
    "    - VivPagada (Household payed) \n",
    "    - VivPagan (Household in payments)\n",
    "    - VivRent (Household rented) \n",
    "    - VivOther (Other catagory)\n"
   ]
  },
  {
   "cell_type": "markdown",
   "id": "65200dd4-b6dc-4c4a-9607-e24526d23500",
   "metadata": {},
   "source": [
    "## ECONOMIC DATA\n",
    "* numauto (# of owned vehicles) \n",
    "* nummotos (# of owned motocycles)\n",
    "* numproperty (# of owned properties) \n",
    "* businessowner (# of owned businesses) \n",
    "* numdepatar (# of owned departmental credit cards)\n",
    "* numcredtar (# of owned credit cards)"
   ]
  },
  {
   "cell_type": "markdown",
   "id": "6421d934-43ea-4dca-8482-f642bfc1cf34",
   "metadata": {},
   "source": [
    "## FINANCIAL DATA\n",
    "* Amount in financial accounts \n",
    "     - MontCuentNomi (Amount in nominal account) \n",
    "     - MontCuentAhorro (Amount in Saving account)\n",
    "     - MontCuentGob (Amount in goverment support account)\n",
    "     - MontCuentInv (Amount in Investments portfolio) \n",
    "     - MontCuentAfore (Amount in Retirement account) \n",
    "     - MontCuentAhorroI1nf (Amount in informal savings)  \n",
    "     \n",
    "* TienActivFin (Has Financial Assets - Boolean)\n",
    "* TienActivNoFin (Has NonFinancial Assets - Boolean)\n",
    "* (boolean):                      \n",
    "* ValVentActivNoFin (Selling value of NonFinancial Assets) \n",
    "* ValVentViv (Selling value of Household)\n",
    "* ValVentBienProd (Selling value of Productive Goods) \n",
    "* ValVentVehic (Selling value of Vehicle) \n",
    "* IngresoTotal (Total Income) \n",
    "* RiquezaNeta (Net Weatlh)\n",
    "\n",
    "* Amount in debt credit\n",
    "    - MontDeudCredViv (Amount in Credit Card Debt) \n",
    "    - MontDeudCredNoHip (Amount in NonHipotecary debt )\n",
    "    - MontDeudCredBanc_Depar (Amount in Credit Departamental Card Debt) \n",
    "    - MontDeudCredNom (Amount in Nominal Credit Debt) \n",
    "    - MontDeudCredAutos (Amount in Car Financing Debt)  \n",
    "    - MontDeudOtrCred (Amount in other types of debt) \n",
    "\n",
    "* inversiones (Has financial investments - boolean)\n",
    "* NoAdeudos (Has debts - boolean) \n",
    "* RazDeudVivi (Housing debt ratio)"
   ]
  },
  {
   "cell_type": "code",
   "execution_count": 10,
   "id": "dea136d2-62aa-4362-afd5-294acd16cb3b",
   "metadata": {
    "tags": []
   },
   "outputs": [
    {
     "data": {
      "text/plain": [
       "folio\n",
       "1     1\n",
       "2     0\n",
       "3     1\n",
       "4     0\n",
       "5     1\n",
       "6     1\n",
       "7     1\n",
       "8     1\n",
       "9     0\n",
       "10    0\n",
       "11    1\n",
       "12    0\n",
       "13    0\n",
       "14    0\n",
       "15    0\n",
       "Name: NoAdeudos, dtype: int64"
      ]
     },
     "execution_count": 10,
     "metadata": {},
     "output_type": "execute_result"
    }
   ],
   "source": [
    "df['NoAdeudos'].head(15)"
   ]
  },
  {
   "cell_type": "markdown",
   "id": "17f03f0f-7f35-4002-bd1e-93c2c1a9bf93",
   "metadata": {
    "tags": []
   },
   "source": [
    "# DATA SELECTION"
   ]
  },
  {
   "cell_type": "markdown",
   "id": "ca8a46ec-ba17-43c1-a7b6-32b817d6a94f",
   "metadata": {},
   "source": [
    "# Mututal information after a cluster using all the existing variables\n",
    "With this method I am planning on selecting the variables that represent the most the existing groups"
   ]
  },
  {
   "cell_type": "code",
   "execution_count": 11,
   "id": "40d6ad30-b334-4df3-a9a7-76fa6dea870c",
   "metadata": {
    "tags": []
   },
   "outputs": [],
   "source": [
    "from sklearn.metrics import mutual_info_score\n",
    "from sklearn.preprocessing import StandardScaler\n",
    "from sklearn.cluster import KMeans"
   ]
  },
  {
   "cell_type": "code",
   "execution_count": 107,
   "id": "7f21254c-c348-4b81-a4b5-0ccbc88709dd",
   "metadata": {
    "collapsed": true,
    "jupyter": {
     "outputs_hidden": true
    },
    "tags": []
   },
   "outputs": [
    {
     "name": "stderr",
     "output_type": "stream",
     "text": [
      "C:\\ProgramData\\anaconda3\\Lib\\site-packages\\sklearn\\cluster\\_kmeans.py:1412: FutureWarning: The default value of `n_init` will change from 10 to 'auto' in 1.4. Set the value of `n_init` explicitly to suppress the warning\n",
      "  super()._check_params_vs_input(X, default_n_init=10)\n"
     ]
    },
    {
     "name": "stdout",
     "output_type": "stream",
     "text": [
      " NumPersHog - 0.0005775801101432104\n",
      " NoTienViv - 0.00015522973439793624\n",
      " VivPagada - 0.00015188493406285682\n",
      " VivPagan - 7.181179773784135e-05\n",
      " VivRent - 1.9449652000386945e-05\n",
      " VivOther - 0.00010018350549282739\n",
      " Patron - 1.9449652000386945e-05\n",
      " Emprend - 0.00010018350549282739\n",
      " MontCuentNomi - 0.00041801400065293964\n",
      " MontCuentAhorro - 0.0018723124261480549\n",
      " TienActivFin - 0.00010920843250992692\n",
      " MontCuentGob - 4.451919273968405e-06\n",
      " MontCuentInv - 0.001569512414085062\n",
      " MontCuentAfore - 0.0020066947924216845\n",
      " MontCuentAhorroInf - 0.002260587525040466\n",
      " TienActivNoFin - 3.4270614878953074e-05\n",
      " ValVentActivNoFin - 0.005218192532081698\n",
      " ValVentViv - 0.0011781376594789128\n",
      " ValVentBienProd - 0.000943204710917665\n",
      " ValVentVehic - 0.0040049214274677225\n",
      " IngresoTotal - 0.0038549480667108933\n",
      " RiquezaNeta - 0.005218192532081533\n",
      " MontDeudCredViv - 0.00049301969606779\n",
      " MontDeudCredNoHip - 0.002209967456878298\n",
      " MontDeudCredBanc_Depar - 0.0019255580173188785\n",
      " MontDeudCredNom - 0.0003162443484815986\n",
      " MontDeudCredAutos - 2.5955444296103846e-05\n",
      " inversiones - 3.721585128511765e-06\n",
      " MontDeudOtrCred - 0.0006610704449015284\n",
      " NoAdeudos - 0.00011306344765679146\n",
      " RazDeudVivi - 0.0002352130219518736\n",
      " numautos - 0.0004408024352664094\n",
      " nummotos - 4.126745106727814e-05\n",
      " numproperty - 0.0003595169277946964\n",
      " businessowner - 0.00019758469730788092\n",
      " numdepatar - 0.0004168300225156902\n",
      " numcredtar - 0.00027134891150305997\n",
      " Hombre - 0.00010488228883377579\n",
      " Mujer - 0.00010488228883377579\n",
      " edad - 0.0015822336301753108\n",
      " UnionL - 4.016068854217393e-05\n",
      " Separado - 9.80102273825717e-06\n",
      " Divorci - 2.6130503105612694e-05\n",
      " Viudo - 1.0529399554282516e-05\n",
      " Casado - 7.889866464300219e-05\n",
      " Soltero - 7.815477698666076e-05\n",
      " NoSabe - 1.3947692616730727e-07\n",
      " numDormi - 0.0007208981966239252\n",
      " numRoom - 0.0006257639902084136\n",
      " numbano - 0.000625408980727241\n",
      " mtcuad - 0.001991485299207529\n",
      " rentaviv - 0.00016250579752261275\n",
      " EducationLevel - 0.0008704512968837727\n",
      " Employee - 5.0915148902158625e-05\n"
     ]
    },
    {
     "name": "stderr",
     "output_type": "stream",
     "text": [
      "C:\\ProgramData\\anaconda3\\Lib\\site-packages\\sklearn\\metrics\\cluster\\_supervised.py:66: UserWarning: Clustering metrics expects discrete values but received multiclass values for label, and continuous values for target\n",
      "  warnings.warn(msg, UserWarning)\n"
     ]
    }
   ],
   "source": [
    "# Assuming your original dataset is stored in the variable 'X'\n",
    "X = df.values  # Assuming df is a pandas DataFrame\n",
    "\n",
    "# Use KMeans for clustering\n",
    "kmeans = KMeans(n_clusters=4)  # Adjust the number of clusters based on your needs\n",
    "clusters = kmeans.fit_predict(X)\n",
    "\n",
    "# Check if there are at least two unique clusters\n",
    "if len(set(clusters)) >= 2:\n",
    "    # Calculate Mutual Information for each feature with respect to cluster assignments\n",
    "    mutual_info_scores = [mutual_info_score(clusters, X[:, i]) for i in range(X.shape[1])]\n",
    "\n",
    "    # Print or visualize Mutual Information scores\n",
    "    for feature, mi_score in zip(df.columns, mutual_info_scores):\n",
    "        print(f\" {feature} - {mi_score}\")\n",
    "else:\n",
    "    print(\"Error: At least two unique clusters are required for Mutual Information calculation.\")"
   ]
  },
  {
   "cell_type": "code",
   "execution_count": 108,
   "id": "e0dabdc5-6158-450a-9555-e74575ba6d4f",
   "metadata": {
    "tags": []
   },
   "outputs": [
    {
     "name": "stdout",
     "output_type": "stream",
     "text": [
      "* ValVentActivNoFin: 0.005218192532081698\n",
      "* RiquezaNeta: 0.005218192532081533\n",
      "* ValVentVehic: 0.0040049214274677225\n",
      "* IngresoTotal: 0.0038549480667108933\n",
      "* MontCuentAhorroInf: 0.002260587525040466\n",
      "* MontDeudCredNoHip: 0.002209967456878298\n",
      "* MontCuentAfore: 0.0020066947924216845\n",
      "* mtcuad: 0.001991485299207529\n",
      "* MontDeudCredBanc_Depar: 0.0019255580173188785\n",
      "* MontCuentAhorro: 0.0018723124261480549\n",
      "* edad: 0.0015822336301753108\n",
      "* MontCuentInv: 0.001569512414085062\n",
      "* ValVentViv: 0.0011781376594789128\n",
      "* ValVentBienProd: 0.000943204710917665\n",
      "* EducationLevel: 0.0008704512968837727\n",
      "* numDormi: 0.0007208981966239252\n",
      "* MontDeudOtrCred: 0.0006610704449015284\n",
      "* numRoom: 0.0006257639902084136\n",
      "* numbano: 0.000625408980727241\n",
      "* NumPersHog: 0.0005775801101432104\n",
      "* MontDeudCredViv: 0.00049301969606779\n",
      "* numautos: 0.0004408024352664094\n",
      "* MontCuentNomi: 0.00041801400065293964\n",
      "* numdepatar: 0.0004168300225156902\n",
      "* numproperty: 0.0003595169277946964\n",
      "* MontDeudCredNom: 0.0003162443484815986\n",
      "* numcredtar: 0.00027134891150305997\n",
      "* RazDeudVivi: 0.0002352130219518736\n",
      "* businessowner: 0.00019758469730788092\n",
      "* rentaviv: 0.00016250579752261275\n",
      "* NoTienViv: 0.00015522973439793624\n",
      "* VivPagada: 0.00015188493406285682\n",
      "* NoAdeudos: 0.00011306344765679146\n",
      "* TienActivFin: 0.00010920843250992692\n",
      "* Hombre: 0.00010488228883377579\n",
      "* Mujer: 0.00010488228883377579\n",
      "* VivOther: 0.00010018350549282739\n",
      "* Emprend: 0.00010018350549282739\n",
      "* Casado: 7.889866464300219e-05\n",
      "* Soltero: 7.815477698666076e-05\n",
      "* VivPagan: 7.181179773784135e-05\n",
      "* Employee: 5.0915148902158625e-05\n",
      "* nummotos: 4.126745106727814e-05\n",
      "* UnionL: 4.016068854217393e-05\n",
      "* TienActivNoFin: 3.4270614878953074e-05\n",
      "* Divorci: 2.6130503105612694e-05\n",
      "* MontDeudCredAutos: 2.5955444296103846e-05\n",
      "* VivRent: 1.9449652000386945e-05\n",
      "* Patron: 1.9449652000386945e-05\n",
      "* Viudo: 1.0529399554282516e-05\n",
      "* Separado: 9.80102273825717e-06\n",
      "* MontCuentGob: 4.451919273968405e-06\n",
      "* inversiones: 3.721585128511765e-06\n",
      "* NoSabe: 1.3947692616730727e-07\n"
     ]
    }
   ],
   "source": [
    "# Pair features with their Mutual Information scores and sort by scores\n",
    "feature_mi_pairs = sorted(zip(df.columns, mutual_info_scores), key=lambda x: x[1], reverse=True)\n",
    "\n",
    "# Print or visualize sorted Mutual Information scores\n",
    "for feature, mi_score in feature_mi_pairs:\n",
    "    print(f\"* {feature}: {mi_score}\")\n",
    "    \n"
   ]
  },
  {
   "cell_type": "markdown",
   "id": "0cb7eb60-a9e1-471b-962b-842e1f270136",
   "metadata": {},
   "source": [
    "## Variance calculation for each variable"
   ]
  },
  {
   "cell_type": "code",
   "execution_count": 35,
   "id": "3b6ed941-45c2-43bf-bb47-0323216d73ff",
   "metadata": {
    "tags": []
   },
   "outputs": [
    {
     "name": "stdout",
     "output_type": "stream",
     "text": [
      "Top 5 Variances:\n",
      "RiquezaNeta          1.012377e+14\n",
      "ValVentActivNoFin    9.950840e+13\n",
      "ValVentBienProd      4.398522e+13\n",
      "ValVentVehic         7.244757e+12\n",
      "MontCuentAfore       1.561474e+12\n",
      "ValVentViv           7.606597e+11\n",
      "IngresoTotal         6.852572e+10\n",
      "MontCuentInv         4.572146e+10\n",
      "MontDeudCredViv      2.202712e+10\n",
      "MontDeudCredNoHip    5.501013e+09\n",
      "dtype: float64\n"
     ]
    }
   ],
   "source": [
    "# Calculate the variance of each feature\n",
    "variances = df.var()\n",
    "\n",
    "# Get the top 5 variables with the largest variance\n",
    "top_5_variances = variances.nlargest(10)\n",
    "\n",
    "# Print or visualize the top 5 variances\n",
    "print(\"Top 5 Variances:\")\n",
    "print(top_5_variances)"
   ]
  },
  {
   "cell_type": "code",
   "execution_count": 36,
   "id": "9739ec32-3970-4928-bb1a-923df3738cc3",
   "metadata": {
    "tags": []
   },
   "outputs": [
    {
     "data": {
      "image/png": "[encoded data removed]",
      "text/plain": [
       "<Figure size 700x300 with 1 Axes>"
      ]
     },
     "metadata": {},
     "output_type": "display_data"
    }
   ],
   "source": [
    "plt.figure(figsize=(7, 3))\n",
    "plt.bar(top_5_variances.index, top_5_variances.values)\n",
    "plt.xlabel('Features')\n",
    "plt.ylabel('Variance')\n",
    "plt.title('Top 5 Feature Variances')\n",
    "plt.xticks(rotation=45, ha='right')\n",
    "plt.show()"
   ]
  },
  {
   "cell_type": "markdown",
   "id": "e31eafbd-6403-47ad-861a-726a1c714e07",
   "metadata": {},
   "source": [
    "# CORRELATION"
   ]
  },
  {
   "cell_type": "code",
   "execution_count": 20,
   "id": "539306dc-3f1b-4211-aca7-c93e123fef9d",
   "metadata": {
    "tags": []
   },
   "outputs": [],
   "source": [
    "X = df\n",
    "\n",
    "# Calculate the correlation matrix\n",
    "correlation_matrix = X.corr()\n",
    "\n",
    "# Set the threshold for correlation\n",
    "threshold = 0.55 # Adjust based on your needs\n",
    "\n",
    "# Find and remove redundant features\n",
    "correlated_features = set()\n",
    "for i in range(len(correlation_matrix.columns)):\n",
    "    for j in range(i):\n",
    "        if abs(correlation_matrix.iloc[i, j]) > threshold:\n",
    "            colname_i = correlation_matrix.columns[i]\n",
    "            colname_j = correlation_matrix.columns[j]\n",
    "\n",
    "            # Keep only one feature from each highly correlated group\n",
    "            # Choose the one with higher importance or any other criterion\n",
    "            if colname_i not in correlated_features:\n",
    "                correlated_features.add(colname_i)\n",
    "\n",
    "# Remove redundant features from the dataset\n",
    "X_filtered = X.drop(columns=correlated_features)\n"
   ]
  },
  {
   "cell_type": "code",
   "execution_count": 21,
   "id": "87b634e2-5593-4f40-88db-00c2086e9875",
   "metadata": {
    "tags": []
   },
   "outputs": [],
   "source": [
    "# Create a new DataFrame with only the highly correlated features\n",
    "X_filtered = X[list(correlated_features)]\n"
   ]
  },
  {
   "cell_type": "code",
   "execution_count": 22,
   "id": "42e72754-84b5-42cc-acea-525223b3ca44",
   "metadata": {
    "tags": []
   },
   "outputs": [
    {
     "data": {
      "text/plain": [
       "{'Employee',\n",
       " 'Emprend',\n",
       " 'MontDeudOtrCred',\n",
       " 'Mujer',\n",
       " 'Patron',\n",
       " 'RazDeudVivi',\n",
       " 'RiquezaNeta',\n",
       " 'TienActivNoFin',\n",
       " 'ValVentBienProd',\n",
       " 'numRoom'}"
      ]
     },
     "execution_count": 22,
     "metadata": {},
     "output_type": "execute_result"
    }
   ],
   "source": [
    "correlated_features"
   ]
  },
  {
   "cell_type": "code",
   "execution_count": 23,
   "id": "4e554f10-3bfa-4f71-927c-801152280264",
   "metadata": {
    "tags": []
   },
   "outputs": [
    {
     "data": {
      "image/png": "[encoded data removed]",
      "text/plain": [
       "<Figure size 640x480 with 2 Axes>"
      ]
     },
     "metadata": {},
     "output_type": "display_data"
    }
   ],
   "source": [
    "sns.heatmap(X_filtered.corr(), annot=True, cmap='coolwarm', fmt=\".2f\")\n",
    "plt.title('Correlation Matrix After Feature Selection')\n",
    "plt.show()"
   ]
  },
  {
   "cell_type": "markdown",
   "id": "f257b16b-7640-419e-9454-29746d99864a",
   "metadata": {},
   "source": [
    "# CLIENTS SEGMENTATION\n",
    " In this section we will use KKMeans to segment clients according to their financial and demographic characteristics to design better financial products for them according to their needs and posibiilities.\n",
    " \n"
   ]
  },
  {
   "cell_type": "markdown",
   "id": "aab0ed61-751b-4953-8854-703e5f5fc341",
   "metadata": {},
   "source": [
    "## Variables to use\n",
    "- RiquezaNeta\n",
    "- VivPagada\n",
    "- VivOther\n",
    "\n",
    "- Jornalero\n",
    "- ValVentViv\n",
    "- ValVentActivNoFin\n",
    "- ValVentBienProd\n",
    "- ValVentVehic\n",
    "\n"
   ]
  },
  {
   "cell_type": "code",
   "execution_count": 110,
   "id": "56bd3849-7725-4479-b79b-7a920bf4a416",
   "metadata": {
    "tags": []
   },
   "outputs": [
    {
     "data": {
      "text/html": [
       "<div>\n",
       "<style scoped>\n",
       "    .dataframe tbody tr th:only-of-type {\n",
       "        vertical-align: middle;\n",
       "    }\n",
       "\n",
       "    .dataframe tbody tr th {\n",
       "        vertical-align: top;\n",
       "    }\n",
       "\n",
       "    .dataframe thead th {\n",
       "        text-align: right;\n",
       "    }\n",
       "</style>\n",
       "<table border=\"1\" class=\"dataframe\">\n",
       "  <thead>\n",
       "    <tr style=\"text-align: right;\">\n",
       "      <th></th>\n",
       "      <th>EducationLevel</th>\n",
       "      <th>edad</th>\n",
       "      <th>Employee</th>\n",
       "      <th>Emprend</th>\n",
       "      <th>IngresoTotal</th>\n",
       "      <th>ValVentVehic</th>\n",
       "      <th>ValVentActivNoFin</th>\n",
       "      <th>MontCuentAhorroInf</th>\n",
       "      <th>MontDeudCredBanc_Depar</th>\n",
       "      <th>MontCuentInv</th>\n",
       "      <th>MontDeudCredNoHip</th>\n",
       "      <th>MontDeudCredViv</th>\n",
       "    </tr>\n",
       "    <tr>\n",
       "      <th>folio</th>\n",
       "      <th></th>\n",
       "      <th></th>\n",
       "      <th></th>\n",
       "      <th></th>\n",
       "      <th></th>\n",
       "      <th></th>\n",
       "      <th></th>\n",
       "      <th></th>\n",
       "      <th></th>\n",
       "      <th></th>\n",
       "      <th></th>\n",
       "      <th></th>\n",
       "    </tr>\n",
       "  </thead>\n",
       "  <tbody>\n",
       "    <tr>\n",
       "      <th>1</th>\n",
       "      <td>1.0</td>\n",
       "      <td>62</td>\n",
       "      <td>1</td>\n",
       "      <td>0</td>\n",
       "      <td>125200</td>\n",
       "      <td>35000</td>\n",
       "      <td>1035000</td>\n",
       "      <td>4000</td>\n",
       "      <td>0</td>\n",
       "      <td>0</td>\n",
       "      <td>0</td>\n",
       "      <td>0</td>\n",
       "    </tr>\n",
       "    <tr>\n",
       "      <th>2</th>\n",
       "      <td>3.0</td>\n",
       "      <td>71</td>\n",
       "      <td>1</td>\n",
       "      <td>0</td>\n",
       "      <td>315300</td>\n",
       "      <td>150000</td>\n",
       "      <td>1385000</td>\n",
       "      <td>0</td>\n",
       "      <td>0</td>\n",
       "      <td>0</td>\n",
       "      <td>100000</td>\n",
       "      <td>0</td>\n",
       "    </tr>\n",
       "    <tr>\n",
       "      <th>3</th>\n",
       "      <td>4.0</td>\n",
       "      <td>65</td>\n",
       "      <td>0</td>\n",
       "      <td>1</td>\n",
       "      <td>318800</td>\n",
       "      <td>0</td>\n",
       "      <td>0</td>\n",
       "      <td>0</td>\n",
       "      <td>0</td>\n",
       "      <td>0</td>\n",
       "      <td>0</td>\n",
       "      <td>0</td>\n",
       "    </tr>\n",
       "    <tr>\n",
       "      <th>4</th>\n",
       "      <td>0.0</td>\n",
       "      <td>73</td>\n",
       "      <td>1</td>\n",
       "      <td>0</td>\n",
       "      <td>220800</td>\n",
       "      <td>0</td>\n",
       "      <td>30000</td>\n",
       "      <td>0</td>\n",
       "      <td>7600</td>\n",
       "      <td>0</td>\n",
       "      <td>19000</td>\n",
       "      <td>0</td>\n",
       "    </tr>\n",
       "    <tr>\n",
       "      <th>5</th>\n",
       "      <td>1.0</td>\n",
       "      <td>79</td>\n",
       "      <td>1</td>\n",
       "      <td>0</td>\n",
       "      <td>263360</td>\n",
       "      <td>0</td>\n",
       "      <td>1070000</td>\n",
       "      <td>2000</td>\n",
       "      <td>0</td>\n",
       "      <td>0</td>\n",
       "      <td>0</td>\n",
       "      <td>0</td>\n",
       "    </tr>\n",
       "  </tbody>\n",
       "</table>\n",
       "</div>"
      ],
      "text/plain": [
       "       EducationLevel  edad  Employee  Emprend  IngresoTotal  ValVentVehic  \\\n",
       "folio                                                                        \n",
       "1                 1.0    62         1        0        125200         35000   \n",
       "2                 3.0    71         1        0        315300        150000   \n",
       "3                 4.0    65         0        1        318800             0   \n",
       "4                 0.0    73         1        0        220800             0   \n",
       "5                 1.0    79         1        0        263360             0   \n",
       "\n",
       "       ValVentActivNoFin  MontCuentAhorroInf  MontDeudCredBanc_Depar  \\\n",
       "folio                                                                  \n",
       "1                1035000                4000                       0   \n",
       "2                1385000                   0                       0   \n",
       "3                      0                   0                       0   \n",
       "4                  30000                   0                    7600   \n",
       "5                1070000                2000                       0   \n",
       "\n",
       "       MontCuentInv  MontDeudCredNoHip  MontDeudCredViv  \n",
       "folio                                                    \n",
       "1                 0                  0                0  \n",
       "2                 0             100000                0  \n",
       "3                 0                  0                0  \n",
       "4                 0              19000                0  \n",
       "5                 0                  0                0  "
      ]
     },
     "execution_count": 110,
     "metadata": {},
     "output_type": "execute_result"
    }
   ],
   "source": [
    "#= df[[,'numRoom',]]\n",
    "mldf = df[['EducationLevel','edad','Employee','Emprend','IngresoTotal','ValVentVehic','ValVentActivNoFin', 'MontCuentAhorroInf','MontDeudCredBanc_Depar','MontCuentInv','MontDeudCredNoHip', 'MontDeudCredViv']].copy()\n",
    "mldf.head()\n",
    "# "
   ]
  },
  {
   "cell_type": "code",
   "execution_count": null,
   "id": "a75d53c8-583e-4ade-98ba-d733d10caf7f",
   "metadata": {},
   "outputs": [],
   "source": [
    "# sample_data = [[4,23,1,0,1,10000,0,3,523,120800,1000]]\n",
    "sample_data = [[4,23,1,\n",
    "                0,1,10000,\n",
    "                3,12000,10000,\n",
    "                130800]]"
   ]
  },
  {
   "cell_type": "code",
   "execution_count": 111,
   "id": "42372830-0ef5-4f93-95ae-d1605875d13a",
   "metadata": {
    "collapsed": true,
    "jupyter": {
     "outputs_hidden": true
    },
    "tags": []
   },
   "outputs": [
    {
     "name": "stderr",
     "output_type": "stream",
     "text": [
      "C:\\ProgramData\\anaconda3\\Lib\\site-packages\\sklearn\\cluster\\_kmeans.py:1412: FutureWarning: The default value of `n_init` will change from 10 to 'auto' in 1.4. Set the value of `n_init` explicitly to suppress the warning\n",
      "  super()._check_params_vs_input(X, default_n_init=10)\n",
      "C:\\ProgramData\\anaconda3\\Lib\\site-packages\\sklearn\\metrics\\cluster\\_supervised.py:66: UserWarning: Clustering metrics expects discrete values but received multiclass values for label, and continuous values for target\n",
      "  warnings.warn(msg, UserWarning)\n",
      "C:\\ProgramData\\anaconda3\\Lib\\site-packages\\sklearn\\metrics\\cluster\\_supervised.py:66: UserWarning: Clustering metrics expects discrete values but received multiclass values for label, and continuous values for target\n",
      "  warnings.warn(msg, UserWarning)\n",
      "C:\\ProgramData\\anaconda3\\Lib\\site-packages\\sklearn\\metrics\\cluster\\_supervised.py:66: UserWarning: Clustering metrics expects discrete values but received multiclass values for label, and continuous values for target\n",
      "  warnings.warn(msg, UserWarning)\n",
      "C:\\ProgramData\\anaconda3\\Lib\\site-packages\\sklearn\\metrics\\cluster\\_supervised.py:66: UserWarning: Clustering metrics expects discrete values but received multiclass values for label, and continuous values for target\n",
      "  warnings.warn(msg, UserWarning)\n",
      "C:\\ProgramData\\anaconda3\\Lib\\site-packages\\sklearn\\metrics\\cluster\\_supervised.py:66: UserWarning: Clustering metrics expects discrete values but received multiclass values for label, and continuous values for target\n",
      "  warnings.warn(msg, UserWarning)\n",
      "C:\\ProgramData\\anaconda3\\Lib\\site-packages\\sklearn\\metrics\\cluster\\_supervised.py:66: UserWarning: Clustering metrics expects discrete values but received multiclass values for label, and continuous values for target\n",
      "  warnings.warn(msg, UserWarning)\n",
      "C:\\ProgramData\\anaconda3\\Lib\\site-packages\\sklearn\\metrics\\cluster\\_supervised.py:66: UserWarning: Clustering metrics expects discrete values but received multiclass values for label, and continuous values for target\n",
      "  warnings.warn(msg, UserWarning)\n",
      "C:\\ProgramData\\anaconda3\\Lib\\site-packages\\sklearn\\metrics\\cluster\\_supervised.py:66: UserWarning: Clustering metrics expects discrete values but received multiclass values for label, and continuous values for target\n",
      "  warnings.warn(msg, UserWarning)\n",
      "C:\\ProgramData\\anaconda3\\Lib\\site-packages\\sklearn\\metrics\\cluster\\_supervised.py:66: UserWarning: Clustering metrics expects discrete values but received multiclass values for label, and continuous values for target\n",
      "  warnings.warn(msg, UserWarning)\n",
      "C:\\ProgramData\\anaconda3\\Lib\\site-packages\\sklearn\\metrics\\cluster\\_supervised.py:66: UserWarning: Clustering metrics expects discrete values but received multiclass values for label, and continuous values for target\n",
      "  warnings.warn(msg, UserWarning)\n",
      "C:\\ProgramData\\anaconda3\\Lib\\site-packages\\sklearn\\metrics\\cluster\\_supervised.py:66: UserWarning: Clustering metrics expects discrete values but received multiclass values for label, and continuous values for target\n",
      "  warnings.warn(msg, UserWarning)\n",
      "C:\\ProgramData\\anaconda3\\Lib\\site-packages\\sklearn\\metrics\\cluster\\_supervised.py:66: UserWarning: Clustering metrics expects discrete values but received multiclass values for label, and continuous values for target\n",
      "  warnings.warn(msg, UserWarning)\n"
     ]
    }
   ],
   "source": [
    "X = mldf\n",
    "# Standardize the features\n",
    "X_scaled = StandardScaler().fit_transform(X)\n",
    "\n",
    "# Fit KMeans clustering\n",
    "n_clusters = 4  # Adjust based on your needs\n",
    "kmeans = KMeans(n_clusters=n_clusters)\n",
    "clusters = kmeans.fit_predict(X_scaled)\n",
    "\n",
    "# Calculate Mutual Information for each feature with respect to cluster assignments\n",
    "mutual_info_scores = [mutual_info_score(clusters, X_scaled[:, i]) for i in range(X_scaled.shape[1])]\n",
    "\n"
   ]
  },
  {
   "cell_type": "code",
   "execution_count": 112,
   "id": "78da9f52-ebd2-4203-b745-46fa327e6932",
   "metadata": {
    "tags": []
   },
   "outputs": [
    {
     "name": "stdout",
     "output_type": "stream",
     "text": [
      "*  EducationLevel, 0.49835504625867155\n",
      "*  Emprend, 0.4349510613586323\n",
      "*  IngresoTotal, 0.3113287918203507\n",
      "*  Employee, 0.263767812705317\n",
      "*  ValVentActivNoFin, 0.26131780574736285\n",
      "*  MontDeudCredNoHip, 0.13724990131787496\n",
      "*  MontDeudCredBanc_Depar, 0.07885664538878423\n",
      "*  ValVentVehic, 0.07653558743300007\n",
      "*  edad, 0.04803268938294948\n",
      "*  MontCuentAhorroInf, 0.03523802141348906\n",
      "*  MontDeudCredViv, 0.03468048002425757\n",
      "*  MontCuentInv, 0.010678133339832883\n"
     ]
    }
   ],
   "source": [
    "# Pair features with their Mutual Information scores and sort by scores\n",
    "feature_mi_pairs = sorted(zip(mldf.columns, mutual_info_scores), key=lambda x: x[1], reverse=True)\n",
    "\n",
    "# Print or visualize sorted Mutual Information scores\n",
    "for feature, mi_score in feature_mi_pairs:\n",
    "    print(f\"*  {feature}, {mi_score}\")"
   ]
  },
  {
   "cell_type": "code",
   "execution_count": 40,
   "id": "8cccd24a-9ca2-49e4-9978-2dd0e9ecfbe8",
   "metadata": {
    "tags": []
   },
   "outputs": [],
   "source": [
    "from sklearn.preprocessing import StandardScaler\n",
    "from sklearn.cluster import KMeans\n",
    "from sklearn.metrics import silhouette_score"
   ]
  },
  {
   "cell_type": "markdown",
   "id": "4c33f393-6e80-40b3-936f-fa8420c7b6fa",
   "metadata": {},
   "source": [
    "## ELBOW METHOD"
   ]
  },
  {
   "cell_type": "code",
   "execution_count": 113,
   "id": "6126a942-7215-471c-ae6e-07500b45f54f",
   "metadata": {
    "collapsed": true,
    "jupyter": {
     "outputs_hidden": true
    },
    "tags": []
   },
   "outputs": [
    {
     "name": "stdout",
     "output_type": "stream",
     "text": [
      "range2\n"
     ]
    },
    {
     "name": "stderr",
     "output_type": "stream",
     "text": [
      "C:\\ProgramData\\anaconda3\\Lib\\site-packages\\sklearn\\cluster\\_kmeans.py:1412: FutureWarning: The default value of `n_init` will change from 10 to 'auto' in 1.4. Set the value of `n_init` explicitly to suppress the warning\n",
      "  super()._check_params_vs_input(X, default_n_init=10)\n"
     ]
    },
    {
     "name": "stdout",
     "output_type": "stream",
     "text": [
      "range3\n"
     ]
    },
    {
     "name": "stderr",
     "output_type": "stream",
     "text": [
      "C:\\ProgramData\\anaconda3\\Lib\\site-packages\\sklearn\\cluster\\_kmeans.py:1412: FutureWarning: The default value of `n_init` will change from 10 to 'auto' in 1.4. Set the value of `n_init` explicitly to suppress the warning\n",
      "  super()._check_params_vs_input(X, default_n_init=10)\n"
     ]
    },
    {
     "name": "stdout",
     "output_type": "stream",
     "text": [
      "range4\n"
     ]
    },
    {
     "name": "stderr",
     "output_type": "stream",
     "text": [
      "C:\\ProgramData\\anaconda3\\Lib\\site-packages\\sklearn\\cluster\\_kmeans.py:1412: FutureWarning: The default value of `n_init` will change from 10 to 'auto' in 1.4. Set the value of `n_init` explicitly to suppress the warning\n",
      "  super()._check_params_vs_input(X, default_n_init=10)\n"
     ]
    },
    {
     "name": "stdout",
     "output_type": "stream",
     "text": [
      "range5\n"
     ]
    },
    {
     "name": "stderr",
     "output_type": "stream",
     "text": [
      "C:\\ProgramData\\anaconda3\\Lib\\site-packages\\sklearn\\cluster\\_kmeans.py:1412: FutureWarning: The default value of `n_init` will change from 10 to 'auto' in 1.4. Set the value of `n_init` explicitly to suppress the warning\n",
      "  super()._check_params_vs_input(X, default_n_init=10)\n"
     ]
    },
    {
     "name": "stdout",
     "output_type": "stream",
     "text": [
      "range6\n"
     ]
    },
    {
     "name": "stderr",
     "output_type": "stream",
     "text": [
      "C:\\ProgramData\\anaconda3\\Lib\\site-packages\\sklearn\\cluster\\_kmeans.py:1412: FutureWarning: The default value of `n_init` will change from 10 to 'auto' in 1.4. Set the value of `n_init` explicitly to suppress the warning\n",
      "  super()._check_params_vs_input(X, default_n_init=10)\n"
     ]
    },
    {
     "name": "stdout",
     "output_type": "stream",
     "text": [
      "range7\n"
     ]
    },
    {
     "name": "stderr",
     "output_type": "stream",
     "text": [
      "C:\\ProgramData\\anaconda3\\Lib\\site-packages\\sklearn\\cluster\\_kmeans.py:1412: FutureWarning: The default value of `n_init` will change from 10 to 'auto' in 1.4. Set the value of `n_init` explicitly to suppress the warning\n",
      "  super()._check_params_vs_input(X, default_n_init=10)\n"
     ]
    },
    {
     "name": "stdout",
     "output_type": "stream",
     "text": [
      "range8\n"
     ]
    },
    {
     "name": "stderr",
     "output_type": "stream",
     "text": [
      "C:\\ProgramData\\anaconda3\\Lib\\site-packages\\sklearn\\cluster\\_kmeans.py:1412: FutureWarning: The default value of `n_init` will change from 10 to 'auto' in 1.4. Set the value of `n_init` explicitly to suppress the warning\n",
      "  super()._check_params_vs_input(X, default_n_init=10)\n"
     ]
    },
    {
     "name": "stdout",
     "output_type": "stream",
     "text": [
      "range9\n"
     ]
    },
    {
     "name": "stderr",
     "output_type": "stream",
     "text": [
      "C:\\ProgramData\\anaconda3\\Lib\\site-packages\\sklearn\\cluster\\_kmeans.py:1412: FutureWarning: The default value of `n_init` will change from 10 to 'auto' in 1.4. Set the value of `n_init` explicitly to suppress the warning\n",
      "  super()._check_params_vs_input(X, default_n_init=10)\n"
     ]
    },
    {
     "name": "stdout",
     "output_type": "stream",
     "text": [
      "range10\n"
     ]
    },
    {
     "name": "stderr",
     "output_type": "stream",
     "text": [
      "C:\\ProgramData\\anaconda3\\Lib\\site-packages\\sklearn\\cluster\\_kmeans.py:1412: FutureWarning: The default value of `n_init` will change from 10 to 'auto' in 1.4. Set the value of `n_init` explicitly to suppress the warning\n",
      "  super()._check_params_vs_input(X, default_n_init=10)\n"
     ]
    }
   ],
   "source": [
    "# Initialize a range of cluster numbers to test\n",
    "cluster_range = range(2, 11)  # Adjust the range based on your needs\n",
    "\n",
    "# Elbow Method: Calculate the sum of squared distances (inertia) for different cluster numbers\n",
    "inertia = []\n",
    "for n_clusters in cluster_range:\n",
    "    print('range'+ str(n_clusters))\n",
    "    kmeans = KMeans(n_clusters=n_clusters, random_state=42)\n",
    "    kmeans.fit(mldf)\n",
    "    inertia.append(kmeans.inertia_)\n"
   ]
  },
  {
   "cell_type": "code",
   "execution_count": 114,
   "id": "110bf182-0cb7-4086-8681-f5cbc0cae943",
   "metadata": {
    "tags": []
   },
   "outputs": [
    {
     "data": {
      "image/png": "[encoded data removed]",
      "text/plain": [
       "<Figure size 640x480 with 1 Axes>"
      ]
     },
     "metadata": {},
     "output_type": "display_data"
    }
   ],
   "source": [
    "# Plot the Elbow Method curve\n",
    "plt.plot(cluster_range, inertia, marker='o')\n",
    "plt.title('Elbow Method for Optimal Cluster Number')\n",
    "plt.xlabel('Number of Clusters')\n",
    "plt.ylabel('Sum of Squared Distances (Inertia)')\n",
    "plt.show()\n"
   ]
  },
  {
   "cell_type": "markdown",
   "id": "4c97c064-3e4d-491b-9f92-6690ec75ef26",
   "metadata": {},
   "source": [
    "## SILHOUETTE SCORE"
   ]
  },
  {
   "cell_type": "code",
   "execution_count": 115,
   "id": "42dd8df7-0cd1-4a30-a88b-27fee336a833",
   "metadata": {
    "collapsed": true,
    "jupyter": {
     "outputs_hidden": true
    },
    "tags": []
   },
   "outputs": [
    {
     "name": "stdout",
     "output_type": "stream",
     "text": [
      "range: 2\n"
     ]
    },
    {
     "name": "stderr",
     "output_type": "stream",
     "text": [
      "C:\\ProgramData\\anaconda3\\Lib\\site-packages\\sklearn\\cluster\\_kmeans.py:1412: FutureWarning: The default value of `n_init` will change from 10 to 'auto' in 1.4. Set the value of `n_init` explicitly to suppress the warning\n",
      "  super()._check_params_vs_input(X, default_n_init=10)\n"
     ]
    },
    {
     "name": "stdout",
     "output_type": "stream",
     "text": [
      "range: 3\n"
     ]
    },
    {
     "name": "stderr",
     "output_type": "stream",
     "text": [
      "C:\\ProgramData\\anaconda3\\Lib\\site-packages\\sklearn\\cluster\\_kmeans.py:1412: FutureWarning: The default value of `n_init` will change from 10 to 'auto' in 1.4. Set the value of `n_init` explicitly to suppress the warning\n",
      "  super()._check_params_vs_input(X, default_n_init=10)\n"
     ]
    },
    {
     "name": "stdout",
     "output_type": "stream",
     "text": [
      "range: 4\n"
     ]
    },
    {
     "name": "stderr",
     "output_type": "stream",
     "text": [
      "C:\\ProgramData\\anaconda3\\Lib\\site-packages\\sklearn\\cluster\\_kmeans.py:1412: FutureWarning: The default value of `n_init` will change from 10 to 'auto' in 1.4. Set the value of `n_init` explicitly to suppress the warning\n",
      "  super()._check_params_vs_input(X, default_n_init=10)\n"
     ]
    },
    {
     "name": "stdout",
     "output_type": "stream",
     "text": [
      "range: 5\n"
     ]
    },
    {
     "name": "stderr",
     "output_type": "stream",
     "text": [
      "C:\\ProgramData\\anaconda3\\Lib\\site-packages\\sklearn\\cluster\\_kmeans.py:1412: FutureWarning: The default value of `n_init` will change from 10 to 'auto' in 1.4. Set the value of `n_init` explicitly to suppress the warning\n",
      "  super()._check_params_vs_input(X, default_n_init=10)\n"
     ]
    },
    {
     "name": "stdout",
     "output_type": "stream",
     "text": [
      "range: 6\n"
     ]
    },
    {
     "name": "stderr",
     "output_type": "stream",
     "text": [
      "C:\\ProgramData\\anaconda3\\Lib\\site-packages\\sklearn\\cluster\\_kmeans.py:1412: FutureWarning: The default value of `n_init` will change from 10 to 'auto' in 1.4. Set the value of `n_init` explicitly to suppress the warning\n",
      "  super()._check_params_vs_input(X, default_n_init=10)\n"
     ]
    },
    {
     "name": "stdout",
     "output_type": "stream",
     "text": [
      "range: 7\n"
     ]
    },
    {
     "name": "stderr",
     "output_type": "stream",
     "text": [
      "C:\\ProgramData\\anaconda3\\Lib\\site-packages\\sklearn\\cluster\\_kmeans.py:1412: FutureWarning: The default value of `n_init` will change from 10 to 'auto' in 1.4. Set the value of `n_init` explicitly to suppress the warning\n",
      "  super()._check_params_vs_input(X, default_n_init=10)\n"
     ]
    },
    {
     "name": "stdout",
     "output_type": "stream",
     "text": [
      "range: 8\n"
     ]
    },
    {
     "name": "stderr",
     "output_type": "stream",
     "text": [
      "C:\\ProgramData\\anaconda3\\Lib\\site-packages\\sklearn\\cluster\\_kmeans.py:1412: FutureWarning: The default value of `n_init` will change from 10 to 'auto' in 1.4. Set the value of `n_init` explicitly to suppress the warning\n",
      "  super()._check_params_vs_input(X, default_n_init=10)\n"
     ]
    },
    {
     "name": "stdout",
     "output_type": "stream",
     "text": [
      "range: 9\n"
     ]
    },
    {
     "name": "stderr",
     "output_type": "stream",
     "text": [
      "C:\\ProgramData\\anaconda3\\Lib\\site-packages\\sklearn\\cluster\\_kmeans.py:1412: FutureWarning: The default value of `n_init` will change from 10 to 'auto' in 1.4. Set the value of `n_init` explicitly to suppress the warning\n",
      "  super()._check_params_vs_input(X, default_n_init=10)\n"
     ]
    },
    {
     "name": "stdout",
     "output_type": "stream",
     "text": [
      "range: 10\n"
     ]
    },
    {
     "name": "stderr",
     "output_type": "stream",
     "text": [
      "C:\\ProgramData\\anaconda3\\Lib\\site-packages\\sklearn\\cluster\\_kmeans.py:1412: FutureWarning: The default value of `n_init` will change from 10 to 'auto' in 1.4. Set the value of `n_init` explicitly to suppress the warning\n",
      "  super()._check_params_vs_input(X, default_n_init=10)\n"
     ]
    }
   ],
   "source": [
    "# Silhouette Score: Calculate the silhouette score for different cluster numbers\n",
    "silhouette_scores = []\n",
    "for n_clusters in cluster_range:\n",
    "    print('range: '+ str(n_clusters))\n",
    "    kmeans = KMeans(n_clusters=n_clusters, random_state=42)\n",
    "    clusters = kmeans.fit_predict(mldf)\n",
    "    silhouette_scores.append(silhouette_score(mldf, clusters))\n"
   ]
  },
  {
   "cell_type": "code",
   "execution_count": 116,
   "id": "460b13b0-af12-4efd-8fc4-239f43b220fc",
   "metadata": {
    "tags": []
   },
   "outputs": [
    {
     "data": {
      "text/plain": [
       "[0.9985405812434199,\n",
       " 0.994356595071836,\n",
       " 0.9942162769672932,\n",
       " 0.9514780291104605,\n",
       " 0.9515151314898688,\n",
       " 0.8662120068487905,\n",
       " 0.882798204832596,\n",
       " 0.7343508196887756,\n",
       " 0.7271217629299416]"
      ]
     },
     "execution_count": 116,
     "metadata": {},
     "output_type": "execute_result"
    }
   ],
   "source": [
    "silhouette_scores"
   ]
  },
  {
   "cell_type": "code",
   "execution_count": 117,
   "id": "dc2343f1-6b41-4b3e-ba6e-f3e04fb4ddf4",
   "metadata": {
    "tags": []
   },
   "outputs": [
    {
     "data": {
      "image/png": "[encoded data removed]",
      "text/plain": [
       "<Figure size 640x480 with 1 Axes>"
      ]
     },
     "metadata": {},
     "output_type": "display_data"
    }
   ],
   "source": [
    "# Plot the Silhouette Score curve\n",
    "plt.plot(cluster_range, silhouette_scores, marker='o')\n",
    "plt.title('Silhouette Score for Optimal Cluster Number')\n",
    "plt.xlabel('Number of Clusters')\n",
    "plt.ylabel('Silhouette Score')\n",
    "plt.show()"
   ]
  },
  {
   "cell_type": "markdown",
   "id": "310c6cc1-53d0-46a8-9b1c-8cabdd39e619",
   "metadata": {},
   "source": [
    "## Creation of model"
   ]
  },
  {
   "cell_type": "code",
   "execution_count": 118,
   "id": "3dc0351b-c7c1-4b40-99e0-d799022d141b",
   "metadata": {
    "tags": []
   },
   "outputs": [
    {
     "name": "stderr",
     "output_type": "stream",
     "text": [
      "C:\\ProgramData\\anaconda3\\Lib\\site-packages\\sklearn\\cluster\\_kmeans.py:1412: FutureWarning: The default value of `n_init` will change from 10 to 'auto' in 1.4. Set the value of `n_init` explicitly to suppress the warning\n",
      "  super()._check_params_vs_input(X, default_n_init=10)\n"
     ]
    },
    {
     "data": {
      "text/plain": [
       "['kmeans_model.joblib']"
      ]
     },
     "execution_count": 118,
     "metadata": {},
     "output_type": "execute_result"
    }
   ],
   "source": [
    "import joblib\n",
    "\n",
    "# Assuming you have already trained the KMeans model with the optimal number of clusters\n",
    "kmeans = KMeans(n_clusters=4, random_state=42)\n",
    "kmeans.fit(mldf)\n",
    "\n",
    "# Save the model to a file\n",
    "joblib.dump(kmeans, 'kmeans_model.joblib')"
   ]
  },
  {
   "cell_type": "code",
   "execution_count": null,
   "id": "e065508f-2280-4889-aa56-9b118e240768",
   "metadata": {},
   "outputs": [],
   "source": []
  },
  {
   "cell_type": "markdown",
   "id": "e453c17b-e5b0-4622-b5db-6f0e0cc47d2c",
   "metadata": {
    "tags": []
   },
   "source": [
    "## Re-loading model and making a prediction"
   ]
  },
  {
   "cell_type": "code",
   "execution_count": 119,
   "id": "e20e0b41-fab5-4043-9583-442e2e4032c7",
   "metadata": {
    "tags": []
   },
   "outputs": [
    {
     "data": {
      "text/html": [
       "<div>\n",
       "<style scoped>\n",
       "    .dataframe tbody tr th:only-of-type {\n",
       "        vertical-align: middle;\n",
       "    }\n",
       "\n",
       "    .dataframe tbody tr th {\n",
       "        vertical-align: top;\n",
       "    }\n",
       "\n",
       "    .dataframe thead th {\n",
       "        text-align: right;\n",
       "    }\n",
       "</style>\n",
       "<table border=\"1\" class=\"dataframe\">\n",
       "  <thead>\n",
       "    <tr style=\"text-align: right;\">\n",
       "      <th></th>\n",
       "      <th>EducationLevel</th>\n",
       "      <th>edad</th>\n",
       "      <th>Employee</th>\n",
       "      <th>Emprend</th>\n",
       "      <th>IngresoTotal</th>\n",
       "      <th>ValVentVehic</th>\n",
       "      <th>ValVentActivNoFin</th>\n",
       "      <th>MontCuentAhorroInf</th>\n",
       "      <th>MontDeudCredBanc_Depar</th>\n",
       "      <th>MontCuentInv</th>\n",
       "      <th>MontDeudCredNoHip</th>\n",
       "      <th>MontDeudCredViv</th>\n",
       "      <th>Cluster_Labels</th>\n",
       "    </tr>\n",
       "    <tr>\n",
       "      <th>folio</th>\n",
       "      <th></th>\n",
       "      <th></th>\n",
       "      <th></th>\n",
       "      <th></th>\n",
       "      <th></th>\n",
       "      <th></th>\n",
       "      <th></th>\n",
       "      <th></th>\n",
       "      <th></th>\n",
       "      <th></th>\n",
       "      <th></th>\n",
       "      <th></th>\n",
       "      <th></th>\n",
       "    </tr>\n",
       "  </thead>\n",
       "  <tbody>\n",
       "    <tr>\n",
       "      <th>1</th>\n",
       "      <td>1.0</td>\n",
       "      <td>62</td>\n",
       "      <td>1</td>\n",
       "      <td>0</td>\n",
       "      <td>125200</td>\n",
       "      <td>35000</td>\n",
       "      <td>1035000</td>\n",
       "      <td>4000</td>\n",
       "      <td>0</td>\n",
       "      <td>0</td>\n",
       "      <td>0</td>\n",
       "      <td>0</td>\n",
       "      <td>0</td>\n",
       "    </tr>\n",
       "    <tr>\n",
       "      <th>2</th>\n",
       "      <td>3.0</td>\n",
       "      <td>71</td>\n",
       "      <td>1</td>\n",
       "      <td>0</td>\n",
       "      <td>315300</td>\n",
       "      <td>150000</td>\n",
       "      <td>1385000</td>\n",
       "      <td>0</td>\n",
       "      <td>0</td>\n",
       "      <td>0</td>\n",
       "      <td>100000</td>\n",
       "      <td>0</td>\n",
       "      <td>0</td>\n",
       "    </tr>\n",
       "    <tr>\n",
       "      <th>3</th>\n",
       "      <td>4.0</td>\n",
       "      <td>65</td>\n",
       "      <td>0</td>\n",
       "      <td>1</td>\n",
       "      <td>318800</td>\n",
       "      <td>0</td>\n",
       "      <td>0</td>\n",
       "      <td>0</td>\n",
       "      <td>0</td>\n",
       "      <td>0</td>\n",
       "      <td>0</td>\n",
       "      <td>0</td>\n",
       "      <td>0</td>\n",
       "    </tr>\n",
       "    <tr>\n",
       "      <th>4</th>\n",
       "      <td>0.0</td>\n",
       "      <td>73</td>\n",
       "      <td>1</td>\n",
       "      <td>0</td>\n",
       "      <td>220800</td>\n",
       "      <td>0</td>\n",
       "      <td>30000</td>\n",
       "      <td>0</td>\n",
       "      <td>7600</td>\n",
       "      <td>0</td>\n",
       "      <td>19000</td>\n",
       "      <td>0</td>\n",
       "      <td>0</td>\n",
       "    </tr>\n",
       "    <tr>\n",
       "      <th>5</th>\n",
       "      <td>1.0</td>\n",
       "      <td>79</td>\n",
       "      <td>1</td>\n",
       "      <td>0</td>\n",
       "      <td>263360</td>\n",
       "      <td>0</td>\n",
       "      <td>1070000</td>\n",
       "      <td>2000</td>\n",
       "      <td>0</td>\n",
       "      <td>0</td>\n",
       "      <td>0</td>\n",
       "      <td>0</td>\n",
       "      <td>0</td>\n",
       "    </tr>\n",
       "  </tbody>\n",
       "</table>\n",
       "</div>"
      ],
      "text/plain": [
       "       EducationLevel  edad  Employee  Emprend  IngresoTotal  ValVentVehic  \\\n",
       "folio                                                                        \n",
       "1                 1.0    62         1        0        125200         35000   \n",
       "2                 3.0    71         1        0        315300        150000   \n",
       "3                 4.0    65         0        1        318800             0   \n",
       "4                 0.0    73         1        0        220800             0   \n",
       "5                 1.0    79         1        0        263360             0   \n",
       "\n",
       "       ValVentActivNoFin  MontCuentAhorroInf  MontDeudCredBanc_Depar  \\\n",
       "folio                                                                  \n",
       "1                1035000                4000                       0   \n",
       "2                1385000                   0                       0   \n",
       "3                      0                   0                       0   \n",
       "4                  30000                   0                    7600   \n",
       "5                1070000                2000                       0   \n",
       "\n",
       "       MontCuentInv  MontDeudCredNoHip  MontDeudCredViv  Cluster_Labels  \n",
       "folio                                                                    \n",
       "1                 0                  0                0               0  \n",
       "2                 0             100000                0               0  \n",
       "3                 0                  0                0               0  \n",
       "4                 0              19000                0               0  \n",
       "5                 0                  0                0               0  "
      ]
     },
     "execution_count": 119,
     "metadata": {},
     "output_type": "execute_result"
    }
   ],
   "source": [
    "# Load the model from the file\n",
    "loaded_kmeans = joblib.load('kmeans_model.joblib')\n",
    "\n",
    "# Predict the cluster labels for the original dataset\n",
    "cluster_labels = loaded_kmeans.predict(mldf)\n",
    "\n",
    "# Create a new dataset with the original features and the cluster labels\n",
    "clustered_data = pd.DataFrame(data=mldf, columns=mldf.columns)\n",
    "clustered_data['Cluster_Labels'] = cluster_labels\n",
    "clustered_data.head()"
   ]
  },
  {
   "cell_type": "code",
   "execution_count": 123,
   "id": "d8d6d8ac-a323-4283-8512-231c58f55097",
   "metadata": {
    "tags": []
   },
   "outputs": [
    {
     "name": "stdout",
     "output_type": "stream",
     "text": [
      "                EducationLevel       edad  Employee  Emprend   IngresoTotal  \\\n",
      "Cluster_Labels                                                                \n",
      "0                     2.086722  48.553755  0.737616  0.15907  169913.408479   \n",
      "1                     2.500000  47.500000  1.000000  0.00000  372000.000000   \n",
      "2                     4.571429  61.857143  0.428571  0.00000  342800.000000   \n",
      "3                     3.333333  45.333333  1.000000  0.00000  395900.000000   \n",
      "\n",
      "                ValVentVehic  ValVentActivNoFin  MontCuentAhorroInf  \\\n",
      "Cluster_Labels                                                        \n",
      "0               4.271459e+04       7.022893e+05         4192.954517   \n",
      "1               1.150000e+06       9.080000e+08            0.000000   \n",
      "2               1.385714e+08       1.437867e+08        18800.000000   \n",
      "3               1.700000e+05       2.273569e+08         9866.666667   \n",
      "\n",
      "                MontDeudCredBanc_Depar  MontCuentInv  MontDeudCredNoHip  \\\n",
      "Cluster_Labels                                                            \n",
      "0                          5917.248010   3901.657020       22581.910191   \n",
      "1                         94750.000000      0.000000      114750.000000   \n",
      "2                         12285.714286  41428.571429       12285.714286   \n",
      "3                             0.000000      0.000000       24666.666667   \n",
      "\n",
      "                MontDeudCredViv  \n",
      "Cluster_Labels                   \n",
      "0                  20442.107799  \n",
      "1                      0.000000  \n",
      "2                      0.000000  \n",
      "3                 323333.333333  \n"
     ]
    }
   ],
   "source": [
    "# Assuming 'clustered_data' contains your dataset with cluster labels\n",
    "cluster_means = clustered_data.groupby('Cluster_Labels').mean()\n",
    "\n",
    "# Display the mean values for each cluster\n",
    "print(cluster_means)"
   ]
  },
  {
   "cell_type": "code",
   "execution_count": 122,
   "id": "bd41f9da-1a70-401d-a087-c6ab877c5282",
   "metadata": {
    "tags": []
   },
   "outputs": [
    {
     "name": "stdout",
     "output_type": "stream",
     "text": [
      "Cluster_Labels\n",
      "0    20733\n",
      "2        7\n",
      "3        3\n",
      "1        2\n",
      "Name: count, dtype: int64\n"
     ]
    }
   ],
   "source": [
    "cluster_counts = clustered_data['Cluster_Labels'].value_counts()\n",
    "\n",
    "# Display the count values for each cluster\n",
    "print(cluster_counts)"
   ]
  },
  {
   "cell_type": "markdown",
   "id": "185b58c6-adf0-45eb-8327-4361bd8e6052",
   "metadata": {},
   "source": [
    "Cluster 0:\n",
    "\n",
    "Nivel educacional: Ninguno - Básico\n",
    "Trabajadores asalariados: Menos del 70%\n",
    "Gran parte son emprendedores\n",
    "Activos financieros limitados en promedio\n",
    "Ingreso promedio: $169,883\n",
    "Deuda de crédito de vivienda promedio: $20,444\n",
    "Cluster 1:\n",
    "\n",
    "Nivel educacional: Básico - Medio\n",
    "Mayoría son trabajadores asalariados\n",
    "$908,000,000 en activos no financieros\n",
    "Ingreso promedio: $372,000\n",
    "Sin deuda hipotecaria en promedio\n",
    "Cluster 2:\n",
    "\n",
    "Nivel educacional: Licenciatura - Posgrado\n",
    "Empleo: Trabajador asalariado menos del 50%\n",
    "$124,612,800 en promedio de activos no financieros\n",
    "Promedio de 6 dormitorios en el hogar\n",
    "Deuda de crédito de vivienda promedio: $326,100.00\n",
    "\n",
    "Cluster 3:\n",
    "\n",
    "Nivel educacional: Medio - Licenciatura\n",
    "No es en su mayoría emprendedor\n",
    "$308,940,000 en activos no financieros\n",
    "Ingreso promedio: $361,200\n",
    "Deuda de crédito de vivienda promedio: $400,000"
   ]
  },
  {
   "cell_type": "code",
   "execution_count": 98,
   "id": "c4f9c04e-4deb-4cbd-85d2-8836eb37c52b",
   "metadata": {
    "tags": []
   },
   "outputs": [
    {
     "name": "stdout",
     "output_type": "stream",
     "text": [
      "Predicted Cluster Labels: [2]\n"
     ]
    },
    {
     "name": "stderr",
     "output_type": "stream",
     "text": [
      "C:\\ProgramData\\anaconda3\\Lib\\site-packages\\sklearn\\base.py:464: UserWarning: X does not have valid feature names, but KMeans was fitted with feature names\n",
      "  warnings.warn(\n"
     ]
    }
   ],
   "source": [
    "# Load the model from the file\n",
    "loaded_kmeans = joblib.load('kmeans_model.joblib')\n",
    "\n",
    "# Create a sample data array for prediction (replace with your actual data)\n",
    "sample_data = [[4,41,1,0,1,119027000,4,266000,0,0,]]\n",
    "# Predict the cluster labels for the sample data\n",
    "predicted_clusters = loaded_kmeans.predict(sample_data)\n",
    "\n",
    "# Display the predicted cluster labels\n",
    "print(\"Predicted Cluster Labels:\", predicted_clusters)"
   ]
  },
  {
   "cell_type": "markdown",
   "id": "e76d180a-26b5-4a61-a5b0-aae13bc5593c",
   "metadata": {},
   "source": [
    "# Predicción de la capacidad de pago: \n",
    "El sistema debe poder predecir la capacidad de pago de un cliente"
   ]
  },
  {
   "cell_type": "code",
   "execution_count": null,
   "id": "cb48871e-db1a-46ff-9030-007838c0b198",
   "metadata": {},
   "outputs": [],
   "source": []
  },
  {
   "cell_type": "markdown",
   "id": "ad590b6c-9ee7-424d-80b4-62100d799a72",
   "metadata": {},
   "source": [
    "# Predeccion de capacidad de incumplimiento\n",
    "usando arboles de decision o regresion logistica con:\n",
    "\"alto riesgo\", \"riesgo medio\" y \"bajo riesgo\"."
   ]
  },
  {
   "cell_type": "code",
   "execution_count": null,
   "id": "374d6283-b0e5-47f2-bcd2-f352f0862b3d",
   "metadata": {},
   "outputs": [],
   "source": []
  }
 ],
 "metadata": {
  "kernelspec": {
   "display_name": "Python 3 (ipykernel)",
   "language": "python",
   "name": "python3"
  },
  "language_info": {
   "codemirror_mode": {
    "name": "ipython",
    "version": 3
   },
   "file_extension": ".py",
   "mimetype": "text/x-python",
   "name": "python",
   "nbconvert_exporter": "python",
   "pygments_lexer": "ipython3",
   "version": "3.11.5"
  }
 },
 "nbformat": 4,
 "nbformat_minor": 5
}
