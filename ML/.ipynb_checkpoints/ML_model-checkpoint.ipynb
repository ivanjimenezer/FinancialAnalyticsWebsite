{
 "cells": [
  {
   "cell_type": "code",
   "execution_count": 1,
   "id": "8c837ffb-aabc-481d-981a-2bed96c1a350",
   "metadata": {
    "tags": []
   },
   "outputs": [],
   "source": [
    "import pandas as pd\n",
    "import seaborn as sns\n",
    "import numpy as np\n",
    "import matplotlib.pyplot as plt\n",
    "from variables import *"
   ]
  },
  {
   "cell_type": "markdown",
   "id": "0d8f9b14-b396-4f95-9936-664f1b5a2c82",
   "metadata": {},
   "source": [
    "# DATA EXPLORATION"
   ]
  },
  {
   "cell_type": "code",
   "execution_count": 2,
   "id": "09bee10f-4288-4f74-8a53-db343f227152",
   "metadata": {
    "tags": []
   },
   "outputs": [
    {
     "data": {
      "text/html": [
       "<div>\n",
       "<style scoped>\n",
       "    .dataframe tbody tr th:only-of-type {\n",
       "        vertical-align: middle;\n",
       "    }\n",
       "\n",
       "    .dataframe tbody tr th {\n",
       "        vertical-align: top;\n",
       "    }\n",
       "\n",
       "    .dataframe thead th {\n",
       "        text-align: right;\n",
       "    }\n",
       "</style>\n",
       "<table border=\"1\" class=\"dataframe\">\n",
       "  <thead>\n",
       "    <tr style=\"text-align: right;\">\n",
       "      <th></th>\n",
       "      <th>folio</th>\n",
       "      <th>NumPersHog</th>\n",
       "      <th>NoED</th>\n",
       "      <th>EDBasic</th>\n",
       "      <th>EDMedia</th>\n",
       "      <th>EDLic</th>\n",
       "      <th>EDPost</th>\n",
       "      <th>EDNoesp</th>\n",
       "      <th>NoTienViv</th>\n",
       "      <th>VivPagada</th>\n",
       "      <th>...</th>\n",
       "      <th>Divorci</th>\n",
       "      <th>Viudo</th>\n",
       "      <th>Casado</th>\n",
       "      <th>Soltero</th>\n",
       "      <th>NoSabe</th>\n",
       "      <th>numDormi</th>\n",
       "      <th>numRoom</th>\n",
       "      <th>numbano</th>\n",
       "      <th>mtcuad</th>\n",
       "      <th>rentaviv</th>\n",
       "    </tr>\n",
       "  </thead>\n",
       "  <tbody>\n",
       "    <tr>\n",
       "      <th>0</th>\n",
       "      <td>1</td>\n",
       "      <td>2</td>\n",
       "      <td>0</td>\n",
       "      <td>1</td>\n",
       "      <td>0</td>\n",
       "      <td>0</td>\n",
       "      <td>0</td>\n",
       "      <td>0</td>\n",
       "      <td>0</td>\n",
       "      <td>0</td>\n",
       "      <td>...</td>\n",
       "      <td>0</td>\n",
       "      <td>0</td>\n",
       "      <td>1</td>\n",
       "      <td>0</td>\n",
       "      <td>0</td>\n",
       "      <td>2</td>\n",
       "      <td>5</td>\n",
       "      <td>1</td>\n",
       "      <td>233</td>\n",
       "      <td>0</td>\n",
       "    </tr>\n",
       "    <tr>\n",
       "      <th>1</th>\n",
       "      <td>2</td>\n",
       "      <td>1</td>\n",
       "      <td>0</td>\n",
       "      <td>0</td>\n",
       "      <td>1</td>\n",
       "      <td>0</td>\n",
       "      <td>0</td>\n",
       "      <td>0</td>\n",
       "      <td>0</td>\n",
       "      <td>1</td>\n",
       "      <td>...</td>\n",
       "      <td>0</td>\n",
       "      <td>0</td>\n",
       "      <td>0</td>\n",
       "      <td>1</td>\n",
       "      <td>0</td>\n",
       "      <td>4</td>\n",
       "      <td>6</td>\n",
       "      <td>2</td>\n",
       "      <td>175</td>\n",
       "      <td>0</td>\n",
       "    </tr>\n",
       "    <tr>\n",
       "      <th>2</th>\n",
       "      <td>3</td>\n",
       "      <td>3</td>\n",
       "      <td>0</td>\n",
       "      <td>0</td>\n",
       "      <td>0</td>\n",
       "      <td>1</td>\n",
       "      <td>0</td>\n",
       "      <td>0</td>\n",
       "      <td>0</td>\n",
       "      <td>0</td>\n",
       "      <td>...</td>\n",
       "      <td>0</td>\n",
       "      <td>0</td>\n",
       "      <td>0</td>\n",
       "      <td>1</td>\n",
       "      <td>0</td>\n",
       "      <td>3</td>\n",
       "      <td>5</td>\n",
       "      <td>3</td>\n",
       "      <td>233</td>\n",
       "      <td>0</td>\n",
       "    </tr>\n",
       "    <tr>\n",
       "      <th>3</th>\n",
       "      <td>4</td>\n",
       "      <td>3</td>\n",
       "      <td>1</td>\n",
       "      <td>0</td>\n",
       "      <td>0</td>\n",
       "      <td>0</td>\n",
       "      <td>0</td>\n",
       "      <td>0</td>\n",
       "      <td>0</td>\n",
       "      <td>0</td>\n",
       "      <td>...</td>\n",
       "      <td>0</td>\n",
       "      <td>1</td>\n",
       "      <td>0</td>\n",
       "      <td>0</td>\n",
       "      <td>0</td>\n",
       "      <td>3</td>\n",
       "      <td>6</td>\n",
       "      <td>2</td>\n",
       "      <td>157</td>\n",
       "      <td>0</td>\n",
       "    </tr>\n",
       "    <tr>\n",
       "      <th>4</th>\n",
       "      <td>5</td>\n",
       "      <td>6</td>\n",
       "      <td>0</td>\n",
       "      <td>1</td>\n",
       "      <td>0</td>\n",
       "      <td>0</td>\n",
       "      <td>0</td>\n",
       "      <td>0</td>\n",
       "      <td>0</td>\n",
       "      <td>1</td>\n",
       "      <td>...</td>\n",
       "      <td>0</td>\n",
       "      <td>1</td>\n",
       "      <td>0</td>\n",
       "      <td>0</td>\n",
       "      <td>0</td>\n",
       "      <td>5</td>\n",
       "      <td>6</td>\n",
       "      <td>1</td>\n",
       "      <td>66</td>\n",
       "      <td>0</td>\n",
       "    </tr>\n",
       "  </tbody>\n",
       "</table>\n",
       "<p>5 rows × 63 columns</p>\n",
       "</div>"
      ],
      "text/plain": [
       "   folio  NumPersHog  NoED  EDBasic  EDMedia  EDLic  EDPost  EDNoesp  \\\n",
       "0      1           2     0        1        0      0       0        0   \n",
       "1      2           1     0        0        1      0       0        0   \n",
       "2      3           3     0        0        0      1       0        0   \n",
       "3      4           3     1        0        0      0       0        0   \n",
       "4      5           6     0        1        0      0       0        0   \n",
       "\n",
       "   NoTienViv  VivPagada  ...  Divorci  Viudo  Casado  Soltero  NoSabe  \\\n",
       "0          0          0  ...        0      0       1        0       0   \n",
       "1          0          1  ...        0      0       0        1       0   \n",
       "2          0          0  ...        0      0       0        1       0   \n",
       "3          0          0  ...        0      1       0        0       0   \n",
       "4          0          1  ...        0      1       0        0       0   \n",
       "\n",
       "   numDormi  numRoom  numbano  mtcuad  rentaviv  \n",
       "0         2        5        1     233         0  \n",
       "1         4        6        2     175         0  \n",
       "2         3        5        3     233         0  \n",
       "3         3        6        2     157         0  \n",
       "4         5        6        1      66         0  \n",
       "\n",
       "[5 rows x 63 columns]"
      ]
     },
     "execution_count": 2,
     "metadata": {},
     "output_type": "execute_result"
    }
   ],
   "source": [
    "pathr = PATH_ML\n",
    "df = pd.read_csv(pathr)\n",
    "df.head()"
   ]
  },
  {
   "cell_type": "code",
   "execution_count": 3,
   "id": "b84bf7f3-cd18-4301-98f0-797691e7e1bb",
   "metadata": {
    "tags": []
   },
   "outputs": [
    {
     "data": {
      "text/plain": [
       "folio         int64\n",
       "NumPersHog    int64\n",
       "NoED          int64\n",
       "EDBasic       int64\n",
       "EDMedia       int64\n",
       "              ...  \n",
       "numDormi      int64\n",
       "numRoom       int64\n",
       "numbano       int64\n",
       "mtcuad        int64\n",
       "rentaviv      int64\n",
       "Length: 63, dtype: object"
      ]
     },
     "execution_count": 3,
     "metadata": {},
     "output_type": "execute_result"
    }
   ],
   "source": [
    "# We check for the variable types of the columns, we see that all are numeric\n",
    "df.dtypes"
   ]
  },
  {
   "cell_type": "code",
   "execution_count": 4,
   "id": "746695c5-d8db-493d-9a0b-53647cc26546",
   "metadata": {
    "collapsed": true,
    "jupyter": {
     "outputs_hidden": true
    },
    "scrolled": true,
    "tags": []
   },
   "outputs": [
    {
     "name": "stdout",
     "output_type": "stream",
     "text": [
      "<class 'pandas.core.frame.DataFrame'>\n",
      "Index: 20745 entries, 1 to 17386\n",
      "Data columns (total 62 columns):\n",
      " #   Column                  Non-Null Count  Dtype  \n",
      "---  ------                  --------------  -----  \n",
      " 0   NumPersHog              20745 non-null  int64  \n",
      " 1   NoED                    20745 non-null  int64  \n",
      " 2   EDBasic                 20745 non-null  int64  \n",
      " 3   EDMedia                 20745 non-null  int64  \n",
      " 4   EDLic                   20745 non-null  int64  \n",
      " 5   EDPost                  20745 non-null  int64  \n",
      " 6   EDNoesp                 20745 non-null  int64  \n",
      " 7   NoTienViv               20745 non-null  int64  \n",
      " 8   VivPagada               20745 non-null  int64  \n",
      " 9   VivPagan                20745 non-null  int64  \n",
      " 10  VivRent                 20745 non-null  int64  \n",
      " 11  VivOther                20745 non-null  int64  \n",
      " 12  NoOcup                  20745 non-null  int64  \n",
      " 13  Empleado                20745 non-null  int64  \n",
      " 14  Jornalero               20745 non-null  int64  \n",
      " 15  Patron                  20745 non-null  int64  \n",
      " 16  Emprend                 20745 non-null  int64  \n",
      " 17  FamWorker               20745 non-null  int64  \n",
      " 18  MontCuentNomi           20745 non-null  int64  \n",
      " 19  MontCuentAhorro         20745 non-null  int64  \n",
      " 20  TienActivFin            20745 non-null  int64  \n",
      " 21  MontCuentGob            20745 non-null  int64  \n",
      " 22  MontCuentInv            20745 non-null  int64  \n",
      " 23  MontCuentAfore          20745 non-null  int64  \n",
      " 24  MontCuentAhorroInf      20745 non-null  int64  \n",
      " 25  TienActivNoFin          20745 non-null  int64  \n",
      " 26  ValVentActivNoFin       20745 non-null  int64  \n",
      " 27  ValVentViv              20745 non-null  int64  \n",
      " 28  ValVentBienProd         20745 non-null  int64  \n",
      " 29  ValVentVehic            20745 non-null  int64  \n",
      " 30  IngresoTotal            20745 non-null  int64  \n",
      " 31  RiquezaNeta             20745 non-null  int64  \n",
      " 32  MontDeudCredViv         20745 non-null  int64  \n",
      " 33  MontDeudCredNoHip       20745 non-null  int64  \n",
      " 34  MontDeudCredBanc_Depar  20745 non-null  int64  \n",
      " 35  MontDeudCredNom         20745 non-null  int64  \n",
      " 36  MontDeudCredAutos       20745 non-null  int64  \n",
      " 37  inversiones             20745 non-null  int64  \n",
      " 38  MontDeudOtrCred         20745 non-null  int64  \n",
      " 39  NoAdeudos               20745 non-null  int64  \n",
      " 40  RazDeudVivi             20745 non-null  float64\n",
      " 41  numautos                20745 non-null  int64  \n",
      " 42  nummotos                20745 non-null  int64  \n",
      " 43  numproperty             20745 non-null  int64  \n",
      " 44  businessowner           20745 non-null  int64  \n",
      " 45  numdepatar              20745 non-null  int64  \n",
      " 46  numcredtar              20745 non-null  int64  \n",
      " 47  Hombre                  20745 non-null  int64  \n",
      " 48  Mujer                   20745 non-null  int64  \n",
      " 49  edad                    20745 non-null  int64  \n",
      " 50  UnionL                  20745 non-null  int64  \n",
      " 51  Separado                20745 non-null  int64  \n",
      " 52  Divorci                 20745 non-null  int64  \n",
      " 53  Viudo                   20745 non-null  int64  \n",
      " 54  Casado                  20745 non-null  int64  \n",
      " 55  Soltero                 20745 non-null  int64  \n",
      " 56  NoSabe                  20745 non-null  int64  \n",
      " 57  numDormi                20745 non-null  int64  \n",
      " 58  numRoom                 20745 non-null  int64  \n",
      " 59  numbano                 20745 non-null  int64  \n",
      " 60  mtcuad                  20745 non-null  int64  \n",
      " 61  rentaviv                20745 non-null  int64  \n",
      "dtypes: float64(1), int64(61)\n",
      "memory usage: 10.0 MB\n",
      "None\n"
     ]
    }
   ],
   "source": [
    "df.set_index('folio', inplace=True)\n",
    "print(df.info())\n"
   ]
  },
  {
   "cell_type": "code",
   "execution_count": 5,
   "id": "58e25d9f-015f-43d1-818b-be0f018206f4",
   "metadata": {
    "collapsed": true,
    "jupyter": {
     "outputs_hidden": true
    },
    "tags": []
   },
   "outputs": [
    {
     "data": {
      "text/html": [
       "<div>\n",
       "<style scoped>\n",
       "    .dataframe tbody tr th:only-of-type {\n",
       "        vertical-align: middle;\n",
       "    }\n",
       "\n",
       "    .dataframe tbody tr th {\n",
       "        vertical-align: top;\n",
       "    }\n",
       "\n",
       "    .dataframe thead th {\n",
       "        text-align: right;\n",
       "    }\n",
       "</style>\n",
       "<table border=\"1\" class=\"dataframe\">\n",
       "  <thead>\n",
       "    <tr style=\"text-align: right;\">\n",
       "      <th></th>\n",
       "      <th>NumPersHog</th>\n",
       "      <th>NoED</th>\n",
       "      <th>EDBasic</th>\n",
       "      <th>EDMedia</th>\n",
       "      <th>EDLic</th>\n",
       "      <th>EDPost</th>\n",
       "      <th>EDNoesp</th>\n",
       "      <th>NoTienViv</th>\n",
       "      <th>VivPagada</th>\n",
       "      <th>VivPagan</th>\n",
       "      <th>...</th>\n",
       "      <th>Divorci</th>\n",
       "      <th>Viudo</th>\n",
       "      <th>Casado</th>\n",
       "      <th>Soltero</th>\n",
       "      <th>NoSabe</th>\n",
       "      <th>numDormi</th>\n",
       "      <th>numRoom</th>\n",
       "      <th>numbano</th>\n",
       "      <th>mtcuad</th>\n",
       "      <th>rentaviv</th>\n",
       "    </tr>\n",
       "    <tr>\n",
       "      <th>folio</th>\n",
       "      <th></th>\n",
       "      <th></th>\n",
       "      <th></th>\n",
       "      <th></th>\n",
       "      <th></th>\n",
       "      <th></th>\n",
       "      <th></th>\n",
       "      <th></th>\n",
       "      <th></th>\n",
       "      <th></th>\n",
       "      <th></th>\n",
       "      <th></th>\n",
       "      <th></th>\n",
       "      <th></th>\n",
       "      <th></th>\n",
       "      <th></th>\n",
       "      <th></th>\n",
       "      <th></th>\n",
       "      <th></th>\n",
       "      <th></th>\n",
       "      <th></th>\n",
       "    </tr>\n",
       "  </thead>\n",
       "  <tbody>\n",
       "    <tr>\n",
       "      <th>1</th>\n",
       "      <td>2</td>\n",
       "      <td>0</td>\n",
       "      <td>1</td>\n",
       "      <td>0</td>\n",
       "      <td>0</td>\n",
       "      <td>0</td>\n",
       "      <td>0</td>\n",
       "      <td>0</td>\n",
       "      <td>0</td>\n",
       "      <td>1</td>\n",
       "      <td>...</td>\n",
       "      <td>0</td>\n",
       "      <td>0</td>\n",
       "      <td>1</td>\n",
       "      <td>0</td>\n",
       "      <td>0</td>\n",
       "      <td>2</td>\n",
       "      <td>5</td>\n",
       "      <td>1</td>\n",
       "      <td>233</td>\n",
       "      <td>0</td>\n",
       "    </tr>\n",
       "    <tr>\n",
       "      <th>2</th>\n",
       "      <td>1</td>\n",
       "      <td>0</td>\n",
       "      <td>0</td>\n",
       "      <td>1</td>\n",
       "      <td>0</td>\n",
       "      <td>0</td>\n",
       "      <td>0</td>\n",
       "      <td>0</td>\n",
       "      <td>1</td>\n",
       "      <td>0</td>\n",
       "      <td>...</td>\n",
       "      <td>0</td>\n",
       "      <td>0</td>\n",
       "      <td>0</td>\n",
       "      <td>1</td>\n",
       "      <td>0</td>\n",
       "      <td>4</td>\n",
       "      <td>6</td>\n",
       "      <td>2</td>\n",
       "      <td>175</td>\n",
       "      <td>0</td>\n",
       "    </tr>\n",
       "    <tr>\n",
       "      <th>3</th>\n",
       "      <td>3</td>\n",
       "      <td>0</td>\n",
       "      <td>0</td>\n",
       "      <td>0</td>\n",
       "      <td>1</td>\n",
       "      <td>0</td>\n",
       "      <td>0</td>\n",
       "      <td>0</td>\n",
       "      <td>0</td>\n",
       "      <td>0</td>\n",
       "      <td>...</td>\n",
       "      <td>0</td>\n",
       "      <td>0</td>\n",
       "      <td>0</td>\n",
       "      <td>1</td>\n",
       "      <td>0</td>\n",
       "      <td>3</td>\n",
       "      <td>5</td>\n",
       "      <td>3</td>\n",
       "      <td>233</td>\n",
       "      <td>0</td>\n",
       "    </tr>\n",
       "    <tr>\n",
       "      <th>4</th>\n",
       "      <td>3</td>\n",
       "      <td>1</td>\n",
       "      <td>0</td>\n",
       "      <td>0</td>\n",
       "      <td>0</td>\n",
       "      <td>0</td>\n",
       "      <td>0</td>\n",
       "      <td>0</td>\n",
       "      <td>0</td>\n",
       "      <td>1</td>\n",
       "      <td>...</td>\n",
       "      <td>0</td>\n",
       "      <td>1</td>\n",
       "      <td>0</td>\n",
       "      <td>0</td>\n",
       "      <td>0</td>\n",
       "      <td>3</td>\n",
       "      <td>6</td>\n",
       "      <td>2</td>\n",
       "      <td>157</td>\n",
       "      <td>0</td>\n",
       "    </tr>\n",
       "    <tr>\n",
       "      <th>5</th>\n",
       "      <td>6</td>\n",
       "      <td>0</td>\n",
       "      <td>1</td>\n",
       "      <td>0</td>\n",
       "      <td>0</td>\n",
       "      <td>0</td>\n",
       "      <td>0</td>\n",
       "      <td>0</td>\n",
       "      <td>1</td>\n",
       "      <td>0</td>\n",
       "      <td>...</td>\n",
       "      <td>0</td>\n",
       "      <td>1</td>\n",
       "      <td>0</td>\n",
       "      <td>0</td>\n",
       "      <td>0</td>\n",
       "      <td>5</td>\n",
       "      <td>6</td>\n",
       "      <td>1</td>\n",
       "      <td>66</td>\n",
       "      <td>0</td>\n",
       "    </tr>\n",
       "    <tr>\n",
       "      <th>6</th>\n",
       "      <td>2</td>\n",
       "      <td>0</td>\n",
       "      <td>1</td>\n",
       "      <td>0</td>\n",
       "      <td>0</td>\n",
       "      <td>0</td>\n",
       "      <td>0</td>\n",
       "      <td>0</td>\n",
       "      <td>0</td>\n",
       "      <td>0</td>\n",
       "      <td>...</td>\n",
       "      <td>0</td>\n",
       "      <td>1</td>\n",
       "      <td>0</td>\n",
       "      <td>0</td>\n",
       "      <td>0</td>\n",
       "      <td>4</td>\n",
       "      <td>5</td>\n",
       "      <td>1</td>\n",
       "      <td>59</td>\n",
       "      <td>0</td>\n",
       "    </tr>\n",
       "    <tr>\n",
       "      <th>7</th>\n",
       "      <td>1</td>\n",
       "      <td>0</td>\n",
       "      <td>1</td>\n",
       "      <td>0</td>\n",
       "      <td>0</td>\n",
       "      <td>0</td>\n",
       "      <td>0</td>\n",
       "      <td>0</td>\n",
       "      <td>0</td>\n",
       "      <td>0</td>\n",
       "      <td>...</td>\n",
       "      <td>0</td>\n",
       "      <td>0</td>\n",
       "      <td>1</td>\n",
       "      <td>0</td>\n",
       "      <td>0</td>\n",
       "      <td>4</td>\n",
       "      <td>7</td>\n",
       "      <td>2</td>\n",
       "      <td>233</td>\n",
       "      <td>0</td>\n",
       "    </tr>\n",
       "  </tbody>\n",
       "</table>\n",
       "<p>7 rows × 62 columns</p>\n",
       "</div>"
      ],
      "text/plain": [
       "       NumPersHog  NoED  EDBasic  EDMedia  EDLic  EDPost  EDNoesp  NoTienViv  \\\n",
       "folio                                                                          \n",
       "1               2     0        1        0      0       0        0          0   \n",
       "2               1     0        0        1      0       0        0          0   \n",
       "3               3     0        0        0      1       0        0          0   \n",
       "4               3     1        0        0      0       0        0          0   \n",
       "5               6     0        1        0      0       0        0          0   \n",
       "6               2     0        1        0      0       0        0          0   \n",
       "7               1     0        1        0      0       0        0          0   \n",
       "\n",
       "       VivPagada  VivPagan  ...  Divorci  Viudo  Casado  Soltero  NoSabe  \\\n",
       "folio                       ...                                            \n",
       "1              0         1  ...        0      0       1        0       0   \n",
       "2              1         0  ...        0      0       0        1       0   \n",
       "3              0         0  ...        0      0       0        1       0   \n",
       "4              0         1  ...        0      1       0        0       0   \n",
       "5              1         0  ...        0      1       0        0       0   \n",
       "6              0         0  ...        0      1       0        0       0   \n",
       "7              0         0  ...        0      0       1        0       0   \n",
       "\n",
       "       numDormi  numRoom  numbano  mtcuad  rentaviv  \n",
       "folio                                                \n",
       "1             2        5        1     233         0  \n",
       "2             4        6        2     175         0  \n",
       "3             3        5        3     233         0  \n",
       "4             3        6        2     157         0  \n",
       "5             5        6        1      66         0  \n",
       "6             4        5        1      59         0  \n",
       "7             4        7        2     233         0  \n",
       "\n",
       "[7 rows x 62 columns]"
      ]
     },
     "execution_count": 5,
     "metadata": {},
     "output_type": "execute_result"
    }
   ],
   "source": [
    "df.head(7)"
   ]
  },
  {
   "cell_type": "code",
   "execution_count": null,
   "id": "91566960-f794-4cdf-b129-e93320dd25ea",
   "metadata": {},
   "outputs": [],
   "source": []
  },
  {
   "cell_type": "markdown",
   "id": "c8629bbf-bb61-48b0-ab53-8025a1d2a150",
   "metadata": {},
   "source": [
    "# DATA EXPLANATION\n",
    "\n",
    "## DEMOGRAPHIC DATA\n",
    " * Hombre (Boolean for sex)\n",
    " * Mujer  (Boolean for sex)\n",
    " * Edad (age)\n",
    " * Civil status (boolean columns - 1 yes, 0 no):\n",
    "     - UnionL (Non Married union)\n",
    "     - Separado (Separated) \n",
    "     - Divorci (Divorced)\n",
    "     - Viudo (Widowed)\n",
    "     - Casado (Married) \n",
    "     - Soltero (Single) \n",
    "     - NoSabe (Doesn't know)\n",
    "* Education level (boolean columns):\n",
    "     - NoED (No education) \n",
    "     - EDBasic (Basic Education)\n",
    "     - EDMedia (Intermediate Education)\n",
    "     - EDLic (Bachelor's level) \n",
    "     - EDPost (Post graduate level)\n",
    "     - EDNoesp (No especified)\n",
    "\n",
    "* Ocupation (boolean columns):\n",
    "    - NoOcup (No ocupation)\n",
    "    - Empleado (Employed) \n",
    "    - Jornalero (Worker) \n",
    "    - Patron (Employer)\n",
    "    - Emprend (Entrepeneur)\n",
    "    - FamWorke (Family Worker)\n",
    "    \n",
    " \n",
    " \n",
    " "
   ]
  },
  {
   "cell_type": "markdown",
   "id": "bfe7b392-78e7-4d7d-874e-656928bde6b6",
   "metadata": {
    "tags": []
   },
   "source": [
    "## HOUSEHOLD DATA\n",
    "* NumPersHog (# of people in the household)\n",
    "* numDormi (# of sleep rooms)\n",
    "* numRoom (# of rooms)\n",
    "* numBano (# of bathrooms)\n",
    "* mtcuad (Household's Square meters )\n",
    "* rentaviv (How much pay for rent)\n",
    "* Household status (boolean columns):\n",
    "    - NoTienViv (Does not have household)\n",
    "    - VivPagada (Household payed) \n",
    "    - VivPagan (Household in payments)\n",
    "    - VivRent (Household rented) \n",
    "    - VivOther (Other catagory)\n"
   ]
  },
  {
   "cell_type": "markdown",
   "id": "65200dd4-b6dc-4c4a-9607-e24526d23500",
   "metadata": {},
   "source": [
    "## ECONOMIC DATA\n",
    "* numauto (# of owned vehicles) \n",
    "* nummotos (# of owned motocycles)\n",
    "* numproperty (# of owned properties) \n",
    "* businessowner (# of owned businesses) \n",
    "* numdepatar (# of owned departmental credit cards)\n",
    "* numcredtar (# of owned credit cards)"
   ]
  },
  {
   "cell_type": "markdown",
   "id": "6421d934-43ea-4dca-8482-f642bfc1cf34",
   "metadata": {},
   "source": [
    "## FINANCIAL DATA\n",
    "* Amount in financial accounts \n",
    "     - MontCuentNomi (Amount in nominal account) \n",
    "     - MontCuentAhorro (Amount in Saving account)\n",
    "     - MontCuentGob (Amount in goverment support account)\n",
    "     - MontCuentInv (Amount in Investments portfolio) \n",
    "     - MontCuentAfore (Amount in Retirement account) \n",
    "     - MontCuentAhorroI1nf (Amount in informal savings)  \n",
    "     \n",
    "* TienActivFin (Has Financial Assets - Boolean)\n",
    "* TienActivNoFin (Has NonFinancial Assets - Boolean)\n",
    "* (boolean):                      \n",
    "* ValVentActivNoFin (Selling value of NonFinancial Assets) \n",
    "* ValVentViv (Selling value of Household)\n",
    "* ValVentBienProd (Selling value of Productive Goods) \n",
    "* ValVentVehic (Selling value of Vehicle) \n",
    "* IngresoTotal (Total Income) \n",
    "* RiquezaNeta (Net Weatlh)\n",
    "\n",
    "* Amount in debt credit\n",
    "    - MontDeudCredViv (Amount in Credit Card Debt) \n",
    "    - MontDeudCredNoHip (Amount in NonHipotecary debt )\n",
    "    - MontDeudCredBanc_Depar (Amount in Credit Departamental Card Debt) \n",
    "    - MontDeudCredNom (Amount in Nominal Credit Debt) \n",
    "    - MontDeudCredAutos (Amount in Car Financing Debt)  \n",
    "    - MontDeudOtrCred (Amount in other types of debt) \n",
    "\n",
    "* inversiones (Has financial investments - boolean)\n",
    "* NoAdeudos (Has debts - boolean) \n",
    "* RazDeudVivi (Housing debt ratio)"
   ]
  },
  {
   "cell_type": "code",
   "execution_count": 38,
   "id": "dea136d2-62aa-4362-afd5-294acd16cb3b",
   "metadata": {
    "collapsed": true,
    "jupyter": {
     "outputs_hidden": true
    },
    "tags": []
   },
   "outputs": [
    {
     "data": {
      "text/plain": [
       "folio\n",
       "1     1\n",
       "2     0\n",
       "3     1\n",
       "4     0\n",
       "5     1\n",
       "6     1\n",
       "7     1\n",
       "8     1\n",
       "9     0\n",
       "10    0\n",
       "11    1\n",
       "12    0\n",
       "13    0\n",
       "14    0\n",
       "15    0\n",
       "Name: NoAdeudos, dtype: int64"
      ]
     },
     "execution_count": 38,
     "metadata": {},
     "output_type": "execute_result"
    }
   ],
   "source": [
    "df['NoAdeudos'].head(15)"
   ]
  },
  {
   "cell_type": "markdown",
   "id": "17f03f0f-7f35-4002-bd1e-93c2c1a9bf93",
   "metadata": {
    "tags": []
   },
   "source": [
    "# DATA SELECTION"
   ]
  },
  {
   "cell_type": "markdown",
   "id": "ca8a46ec-ba17-43c1-a7b6-32b817d6a94f",
   "metadata": {},
   "source": [
    "# Mututal information after a cluster using all the existing variables\n",
    "With this method I am planning on selecting the variables that represent the most the existing groups"
   ]
  },
  {
   "cell_type": "code",
   "execution_count": 6,
   "id": "40d6ad30-b334-4df3-a9a7-76fa6dea870c",
   "metadata": {
    "tags": []
   },
   "outputs": [],
   "source": [
    "from sklearn.metrics import mutual_info_score\n",
    "from sklearn.preprocessing import StandardScaler\n",
    "from sklearn.cluster import KMeans"
   ]
  },
  {
   "cell_type": "code",
   "execution_count": 7,
   "id": "7f21254c-c348-4b81-a4b5-0ccbc88709dd",
   "metadata": {
    "collapsed": true,
    "jupyter": {
     "outputs_hidden": true
    },
    "tags": []
   },
   "outputs": [
    {
     "name": "stderr",
     "output_type": "stream",
     "text": [
      "C:\\ProgramData\\anaconda3\\Lib\\site-packages\\sklearn\\cluster\\_kmeans.py:1412: FutureWarning: The default value of `n_init` will change from 10 to 'auto' in 1.4. Set the value of `n_init` explicitly to suppress the warning\n",
      "  super()._check_params_vs_input(X, default_n_init=10)\n",
      "C:\\ProgramData\\anaconda3\\Lib\\site-packages\\sklearn\\metrics\\cluster\\_supervised.py:66: UserWarning: Clustering metrics expects discrete values but received multiclass values for label, and continuous values for target\n",
      "  warnings.warn(msg, UserWarning)\n",
      "C:\\ProgramData\\anaconda3\\Lib\\site-packages\\sklearn\\metrics\\cluster\\_supervised.py:66: UserWarning: Clustering metrics expects discrete values but received multiclass values for label, and continuous values for target\n",
      "  warnings.warn(msg, UserWarning)\n",
      "C:\\ProgramData\\anaconda3\\Lib\\site-packages\\sklearn\\metrics\\cluster\\_supervised.py:66: UserWarning: Clustering metrics expects discrete values but received multiclass values for label, and continuous values for target\n",
      "  warnings.warn(msg, UserWarning)\n",
      "C:\\ProgramData\\anaconda3\\Lib\\site-packages\\sklearn\\metrics\\cluster\\_supervised.py:66: UserWarning: Clustering metrics expects discrete values but received multiclass values for label, and continuous values for target\n",
      "  warnings.warn(msg, UserWarning)\n",
      "C:\\ProgramData\\anaconda3\\Lib\\site-packages\\sklearn\\metrics\\cluster\\_supervised.py:66: UserWarning: Clustering metrics expects discrete values but received multiclass values for label, and continuous values for target\n",
      "  warnings.warn(msg, UserWarning)\n",
      "C:\\ProgramData\\anaconda3\\Lib\\site-packages\\sklearn\\metrics\\cluster\\_supervised.py:66: UserWarning: Clustering metrics expects discrete values but received multiclass values for label, and continuous values for target\n",
      "  warnings.warn(msg, UserWarning)\n",
      "C:\\ProgramData\\anaconda3\\Lib\\site-packages\\sklearn\\metrics\\cluster\\_supervised.py:66: UserWarning: Clustering metrics expects discrete values but received multiclass values for label, and continuous values for target\n",
      "  warnings.warn(msg, UserWarning)\n",
      "C:\\ProgramData\\anaconda3\\Lib\\site-packages\\sklearn\\metrics\\cluster\\_supervised.py:66: UserWarning: Clustering metrics expects discrete values but received multiclass values for label, and continuous values for target\n",
      "  warnings.warn(msg, UserWarning)\n",
      "C:\\ProgramData\\anaconda3\\Lib\\site-packages\\sklearn\\metrics\\cluster\\_supervised.py:66: UserWarning: Clustering metrics expects discrete values but received multiclass values for label, and continuous values for target\n",
      "  warnings.warn(msg, UserWarning)\n",
      "C:\\ProgramData\\anaconda3\\Lib\\site-packages\\sklearn\\metrics\\cluster\\_supervised.py:66: UserWarning: Clustering metrics expects discrete values but received multiclass values for label, and continuous values for target\n",
      "  warnings.warn(msg, UserWarning)\n",
      "C:\\ProgramData\\anaconda3\\Lib\\site-packages\\sklearn\\metrics\\cluster\\_supervised.py:66: UserWarning: Clustering metrics expects discrete values but received multiclass values for label, and continuous values for target\n",
      "  warnings.warn(msg, UserWarning)\n",
      "C:\\ProgramData\\anaconda3\\Lib\\site-packages\\sklearn\\metrics\\cluster\\_supervised.py:66: UserWarning: Clustering metrics expects discrete values but received multiclass values for label, and continuous values for target\n",
      "  warnings.warn(msg, UserWarning)\n",
      "C:\\ProgramData\\anaconda3\\Lib\\site-packages\\sklearn\\metrics\\cluster\\_supervised.py:66: UserWarning: Clustering metrics expects discrete values but received multiclass values for label, and continuous values for target\n",
      "  warnings.warn(msg, UserWarning)\n",
      "C:\\ProgramData\\anaconda3\\Lib\\site-packages\\sklearn\\metrics\\cluster\\_supervised.py:66: UserWarning: Clustering metrics expects discrete values but received multiclass values for label, and continuous values for target\n",
      "  warnings.warn(msg, UserWarning)\n",
      "C:\\ProgramData\\anaconda3\\Lib\\site-packages\\sklearn\\metrics\\cluster\\_supervised.py:66: UserWarning: Clustering metrics expects discrete values but received multiclass values for label, and continuous values for target\n",
      "  warnings.warn(msg, UserWarning)\n",
      "C:\\ProgramData\\anaconda3\\Lib\\site-packages\\sklearn\\metrics\\cluster\\_supervised.py:66: UserWarning: Clustering metrics expects discrete values but received multiclass values for label, and continuous values for target\n",
      "  warnings.warn(msg, UserWarning)\n",
      "C:\\ProgramData\\anaconda3\\Lib\\site-packages\\sklearn\\metrics\\cluster\\_supervised.py:66: UserWarning: Clustering metrics expects discrete values but received multiclass values for label, and continuous values for target\n",
      "  warnings.warn(msg, UserWarning)\n",
      "C:\\ProgramData\\anaconda3\\Lib\\site-packages\\sklearn\\metrics\\cluster\\_supervised.py:66: UserWarning: Clustering metrics expects discrete values but received multiclass values for label, and continuous values for target\n",
      "  warnings.warn(msg, UserWarning)\n",
      "C:\\ProgramData\\anaconda3\\Lib\\site-packages\\sklearn\\metrics\\cluster\\_supervised.py:66: UserWarning: Clustering metrics expects discrete values but received multiclass values for label, and continuous values for target\n",
      "  warnings.warn(msg, UserWarning)\n",
      "C:\\ProgramData\\anaconda3\\Lib\\site-packages\\sklearn\\metrics\\cluster\\_supervised.py:66: UserWarning: Clustering metrics expects discrete values but received multiclass values for label, and continuous values for target\n",
      "  warnings.warn(msg, UserWarning)\n",
      "C:\\ProgramData\\anaconda3\\Lib\\site-packages\\sklearn\\metrics\\cluster\\_supervised.py:66: UserWarning: Clustering metrics expects discrete values but received multiclass values for label, and continuous values for target\n",
      "  warnings.warn(msg, UserWarning)\n",
      "C:\\ProgramData\\anaconda3\\Lib\\site-packages\\sklearn\\metrics\\cluster\\_supervised.py:66: UserWarning: Clustering metrics expects discrete values but received multiclass values for label, and continuous values for target\n",
      "  warnings.warn(msg, UserWarning)\n",
      "C:\\ProgramData\\anaconda3\\Lib\\site-packages\\sklearn\\metrics\\cluster\\_supervised.py:66: UserWarning: Clustering metrics expects discrete values but received multiclass values for label, and continuous values for target\n",
      "  warnings.warn(msg, UserWarning)\n",
      "C:\\ProgramData\\anaconda3\\Lib\\site-packages\\sklearn\\metrics\\cluster\\_supervised.py:66: UserWarning: Clustering metrics expects discrete values but received multiclass values for label, and continuous values for target\n",
      "  warnings.warn(msg, UserWarning)\n",
      "C:\\ProgramData\\anaconda3\\Lib\\site-packages\\sklearn\\metrics\\cluster\\_supervised.py:66: UserWarning: Clustering metrics expects discrete values but received multiclass values for label, and continuous values for target\n",
      "  warnings.warn(msg, UserWarning)\n",
      "C:\\ProgramData\\anaconda3\\Lib\\site-packages\\sklearn\\metrics\\cluster\\_supervised.py:66: UserWarning: Clustering metrics expects discrete values but received multiclass values for label, and continuous values for target\n",
      "  warnings.warn(msg, UserWarning)\n",
      "C:\\ProgramData\\anaconda3\\Lib\\site-packages\\sklearn\\metrics\\cluster\\_supervised.py:66: UserWarning: Clustering metrics expects discrete values but received multiclass values for label, and continuous values for target\n",
      "  warnings.warn(msg, UserWarning)\n",
      "C:\\ProgramData\\anaconda3\\Lib\\site-packages\\sklearn\\metrics\\cluster\\_supervised.py:66: UserWarning: Clustering metrics expects discrete values but received multiclass values for label, and continuous values for target\n",
      "  warnings.warn(msg, UserWarning)\n",
      "C:\\ProgramData\\anaconda3\\Lib\\site-packages\\sklearn\\metrics\\cluster\\_supervised.py:66: UserWarning: Clustering metrics expects discrete values but received multiclass values for label, and continuous values for target\n",
      "  warnings.warn(msg, UserWarning)\n",
      "C:\\ProgramData\\anaconda3\\Lib\\site-packages\\sklearn\\metrics\\cluster\\_supervised.py:66: UserWarning: Clustering metrics expects discrete values but received multiclass values for label, and continuous values for target\n",
      "  warnings.warn(msg, UserWarning)\n",
      "C:\\ProgramData\\anaconda3\\Lib\\site-packages\\sklearn\\metrics\\cluster\\_supervised.py:66: UserWarning: Clustering metrics expects discrete values but received multiclass values for label, and continuous values for target\n",
      "  warnings.warn(msg, UserWarning)\n",
      "C:\\ProgramData\\anaconda3\\Lib\\site-packages\\sklearn\\metrics\\cluster\\_supervised.py:66: UserWarning: Clustering metrics expects discrete values but received multiclass values for label, and continuous values for target\n",
      "  warnings.warn(msg, UserWarning)\n",
      "C:\\ProgramData\\anaconda3\\Lib\\site-packages\\sklearn\\metrics\\cluster\\_supervised.py:66: UserWarning: Clustering metrics expects discrete values but received multiclass values for label, and continuous values for target\n",
      "  warnings.warn(msg, UserWarning)\n",
      "C:\\ProgramData\\anaconda3\\Lib\\site-packages\\sklearn\\metrics\\cluster\\_supervised.py:66: UserWarning: Clustering metrics expects discrete values but received multiclass values for label, and continuous values for target\n",
      "  warnings.warn(msg, UserWarning)\n",
      "C:\\ProgramData\\anaconda3\\Lib\\site-packages\\sklearn\\metrics\\cluster\\_supervised.py:66: UserWarning: Clustering metrics expects discrete values but received multiclass values for label, and continuous values for target\n",
      "  warnings.warn(msg, UserWarning)\n",
      "\n",
      "KeyboardInterrupt\n",
      "\n"
     ]
    }
   ],
   "source": [
    "# Assuming your original dataset is stored in the variable 'X'\n",
    "X = df\n",
    "\n",
    "# Standardize the features\n",
    "X_scaled = StandardScaler().fit_transform(X)\n",
    "\n",
    "# Fit KMeans clustering\n",
    "n_clusters = 5  # Adjust based on your needs\n",
    "kmeans = KMeans(n_clusters=n_clusters)\n",
    "clusters = kmeans.fit_predict(X_scaled)\n",
    "\n",
    "# Calculate Mutual Information for each feature with respect to cluster assignments\n",
    "mutual_info_scores = [mutual_info_score(clusters, X_scaled[:, i]) for i in range(X_scaled.shape[1])]\n",
    "\n"
   ]
  },
  {
   "cell_type": "code",
   "execution_count": 8,
   "id": "e0dabdc5-6158-450a-9555-e74575ba6d4f",
   "metadata": {
    "collapsed": true,
    "jupyter": {
     "outputs_hidden": true
    },
    "tags": []
   },
   "outputs": [
    {
     "ename": "NameError",
     "evalue": "name 'mutual_info_scores' is not defined",
     "output_type": "error",
     "traceback": [
      "\u001b[1;31m---------------------------------------------------------------------------\u001b[0m",
      "\u001b[1;31mNameError\u001b[0m                                 Traceback (most recent call last)",
      "Cell \u001b[1;32mIn[8], line 2\u001b[0m\n\u001b[0;32m      1\u001b[0m \u001b[38;5;66;03m# Pair features with their Mutual Information scores and sort by scores\u001b[39;00m\n\u001b[1;32m----> 2\u001b[0m feature_mi_pairs \u001b[38;5;241m=\u001b[39m \u001b[38;5;28msorted\u001b[39m(\u001b[38;5;28mzip\u001b[39m(X\u001b[38;5;241m.\u001b[39mcolumns, mutual_info_scores), key\u001b[38;5;241m=\u001b[39m\u001b[38;5;28;01mlambda\u001b[39;00m x: x[\u001b[38;5;241m1\u001b[39m], reverse\u001b[38;5;241m=\u001b[39m\u001b[38;5;28;01mTrue\u001b[39;00m)\n\u001b[0;32m      4\u001b[0m \u001b[38;5;66;03m# Print or visualize sorted Mutual Information scores\u001b[39;00m\n\u001b[0;32m      5\u001b[0m \u001b[38;5;28;01mfor\u001b[39;00m feature, mi_score \u001b[38;5;129;01min\u001b[39;00m feature_mi_pairs:\n",
      "\u001b[1;31mNameError\u001b[0m: name 'mutual_info_scores' is not defined"
     ]
    }
   ],
   "source": [
    "# Pair features with their Mutual Information scores and sort by scores\n",
    "feature_mi_pairs = sorted(zip(X.columns, mutual_info_scores), key=lambda x: x[1], reverse=True)\n",
    "\n",
    "# Print or visualize sorted Mutual Information scores\n",
    "for feature, mi_score in feature_mi_pairs:\n",
    "    print(f\"*  {feature}, {mi_score}\")"
   ]
  },
  {
   "cell_type": "markdown",
   "id": "d914e5b2-658b-4b7c-98be-1fe3a1277ea4",
   "metadata": {},
   "source": [
    "## Con el analisis anterior podemos obtener que las variables mas importantes para un clustering son\n",
    "*  RiquezaNeta 0.7919621959297316\n",
    "*  VivPagada 0.6901759791401675\n",
    "*  Empleado 0.6901759791401675\n",
    "*  ValVentViv 0.5433314028031178\n",
    "*  ValVentActivNoFin 0.5368930528766656\n",
    "*  VivOther 0.437548413065522\n",
    "*  Emprend 0.437548413065522\n",
    "*  rentaviv 0.41618727508263204\n",
    "*  VivRent 0.4139349920766708\n",
    "*  Patron 0.4139349920766708\n",
    "*  IngresoTotal 0.39569245816056464\n",
    "*  VivPagan 0.35329056098829137\n",
    "*  Jornalero 0.35329056098829137\n",
    "*  NoTienViv 0.3325906247585979\n",
    "*  NoOcup 0.3325906247585979"
   ]
  },
  {
   "cell_type": "markdown",
   "id": "0cb7eb60-a9e1-471b-962b-842e1f270136",
   "metadata": {},
   "source": [
    "## Variance calculation for each variable"
   ]
  },
  {
   "cell_type": "code",
   "execution_count": 9,
   "id": "3b6ed941-45c2-43bf-bb47-0323216d73ff",
   "metadata": {
    "tags": []
   },
   "outputs": [
    {
     "name": "stdout",
     "output_type": "stream",
     "text": [
      "Top 5 Variances:\n",
      "RiquezaNeta          1.012377e+14\n",
      "ValVentActivNoFin    9.950840e+13\n",
      "ValVentBienProd      4.398522e+13\n",
      "ValVentVehic         7.244757e+12\n",
      "MontCuentAfore       1.561474e+12\n",
      "dtype: float64\n"
     ]
    }
   ],
   "source": [
    "# Calculate the variance of each feature\n",
    "variances = df.var()\n",
    "\n",
    "# Get the top 5 variables with the largest variance\n",
    "top_5_variances = variances.nlargest(5)\n",
    "\n",
    "# Print or visualize the top 5 variances\n",
    "print(\"Top 5 Variances:\")\n",
    "print(top_5_variances)"
   ]
  },
  {
   "cell_type": "code",
   "execution_count": 10,
   "id": "9739ec32-3970-4928-bb1a-923df3738cc3",
   "metadata": {
    "tags": []
   },
   "outputs": [
    {
     "data": {
      "image/png": "[encoded data removed]",
      "text/plain": [
       "<Figure size 700x300 with 1 Axes>"
      ]
     },
     "metadata": {},
     "output_type": "display_data"
    }
   ],
   "source": [
    "plt.figure(figsize=(7, 3))\n",
    "plt.bar(top_5_variances.index, top_5_variances.values)\n",
    "plt.xlabel('Features')\n",
    "plt.ylabel('Variance')\n",
    "plt.title('Top 5 Feature Variances')\n",
    "plt.xticks(rotation=45, ha='right')\n",
    "plt.show()"
   ]
  },
  {
   "cell_type": "markdown",
   "id": "e31eafbd-6403-47ad-861a-726a1c714e07",
   "metadata": {},
   "source": [
    "# CORRELATION"
   ]
  },
  {
   "cell_type": "code",
   "execution_count": 19,
   "id": "539306dc-3f1b-4211-aca7-c93e123fef9d",
   "metadata": {
    "tags": []
   },
   "outputs": [],
   "source": [
    "X = df\n",
    "\n",
    "# Calculate the correlation matrix\n",
    "correlation_matrix = X.corr()\n",
    "\n",
    "# Set the threshold for correlation\n",
    "threshold = 0.55 # Adjust based on your needs\n",
    "\n",
    "# Find and remove redundant features\n",
    "correlated_features = set()\n",
    "for i in range(len(correlation_matrix.columns)):\n",
    "    for j in range(i):\n",
    "        if abs(correlation_matrix.iloc[i, j]) > threshold:\n",
    "            colname_i = correlation_matrix.columns[i]\n",
    "            colname_j = correlation_matrix.columns[j]\n",
    "\n",
    "            # Keep only one feature from each highly correlated group\n",
    "            # Choose the one with higher importance or any other criterion\n",
    "            if colname_i not in correlated_features:\n",
    "                correlated_features.add(colname_i)\n",
    "\n",
    "# Remove redundant features from the dataset\n",
    "X_filtered = X.drop(columns=correlated_features)\n"
   ]
  },
  {
   "cell_type": "code",
   "execution_count": 20,
   "id": "87b634e2-5593-4f40-88db-00c2086e9875",
   "metadata": {
    "tags": []
   },
   "outputs": [],
   "source": [
    "# Create a new DataFrame with only the highly correlated features\n",
    "X_filtered = X[list(correlated_features)]\n"
   ]
  },
  {
   "cell_type": "code",
   "execution_count": 21,
   "id": "42e72754-84b5-42cc-acea-525223b3ca44",
   "metadata": {
    "tags": []
   },
   "outputs": [
    {
     "data": {
      "text/plain": [
       "{'Empleado',\n",
       " 'Emprend',\n",
       " 'Jornalero',\n",
       " 'MontDeudOtrCred',\n",
       " 'Mujer',\n",
       " 'NoOcup',\n",
       " 'Patron',\n",
       " 'RazDeudVivi',\n",
       " 'RiquezaNeta',\n",
       " 'TienActivNoFin',\n",
       " 'ValVentBienProd',\n",
       " 'numRoom'}"
      ]
     },
     "execution_count": 21,
     "metadata": {},
     "output_type": "execute_result"
    }
   ],
   "source": [
    "correlated_features"
   ]
  },
  {
   "cell_type": "code",
   "execution_count": 22,
   "id": "4e554f10-3bfa-4f71-927c-801152280264",
   "metadata": {
    "tags": []
   },
   "outputs": [
    {
     "data": {
      "image/png": "[encoded data removed]",
      "text/plain": [
       "<Figure size 640x480 with 2 Axes>"
      ]
     },
     "metadata": {},
     "output_type": "display_data"
    }
   ],
   "source": [
    "sns.heatmap(X_filtered.corr(), annot=True, cmap='coolwarm', fmt=\".2f\")\n",
    "plt.title('Correlation Matrix After Feature Selection')\n",
    "plt.show()"
   ]
  },
  {
   "cell_type": "markdown",
   "id": "f257b16b-7640-419e-9454-29746d99864a",
   "metadata": {},
   "source": [
    "# CLIENTS SEGMENTATION\n",
    " In this section we will use KKMeans to segment clients according to their financial and demographic characteristics to design better financial products for them according to their needs and posibiilities.\n",
    " \n"
   ]
  },
  {
   "cell_type": "markdown",
   "id": "aab0ed61-751b-4953-8854-703e5f5fc341",
   "metadata": {},
   "source": [
    "## Variables to use\n",
    "- RiquezaNeta\n",
    "- VivPagada\n",
    "- VivOther\n",
    "- Empleado\n",
    "- Emprend\n",
    "- NoOcup\n",
    "- Jornalero\n",
    "- ValVentViv\n",
    "- ValVentActivNoFin\n",
    "- ValVentBienProd\n",
    "- ValVentVehic\n",
    "\n"
   ]
  },
  {
   "cell_type": "code",
   "execution_count": 23,
   "id": "56bd3849-7725-4479-b79b-7a920bf4a416",
   "metadata": {
    "tags": []
   },
   "outputs": [
    {
     "data": {
      "text/html": [
       "<div>\n",
       "<style scoped>\n",
       "    .dataframe tbody tr th:only-of-type {\n",
       "        vertical-align: middle;\n",
       "    }\n",
       "\n",
       "    .dataframe tbody tr th {\n",
       "        vertical-align: top;\n",
       "    }\n",
       "\n",
       "    .dataframe thead th {\n",
       "        text-align: right;\n",
       "    }\n",
       "</style>\n",
       "<table border=\"1\" class=\"dataframe\">\n",
       "  <thead>\n",
       "    <tr style=\"text-align: right;\">\n",
       "      <th></th>\n",
       "      <th>edad</th>\n",
       "      <th>Empleado</th>\n",
       "      <th>Emprend</th>\n",
       "      <th>NoOcup</th>\n",
       "      <th>Jornalero</th>\n",
       "      <th>businessowner</th>\n",
       "      <th>numproperty</th>\n",
       "      <th>numdepatar</th>\n",
       "      <th>mtcuad</th>\n",
       "      <th>IngresoTotal</th>\n",
       "      <th>MontDeudCredNoHip</th>\n",
       "    </tr>\n",
       "    <tr>\n",
       "      <th>folio</th>\n",
       "      <th></th>\n",
       "      <th></th>\n",
       "      <th></th>\n",
       "      <th></th>\n",
       "      <th></th>\n",
       "      <th></th>\n",
       "      <th></th>\n",
       "      <th></th>\n",
       "      <th></th>\n",
       "      <th></th>\n",
       "      <th></th>\n",
       "    </tr>\n",
       "  </thead>\n",
       "  <tbody>\n",
       "    <tr>\n",
       "      <th>1</th>\n",
       "      <td>62</td>\n",
       "      <td>0</td>\n",
       "      <td>0</td>\n",
       "      <td>0</td>\n",
       "      <td>1</td>\n",
       "      <td>0</td>\n",
       "      <td>1</td>\n",
       "      <td>0</td>\n",
       "      <td>233</td>\n",
       "      <td>125200</td>\n",
       "      <td>0</td>\n",
       "    </tr>\n",
       "    <tr>\n",
       "      <th>2</th>\n",
       "      <td>71</td>\n",
       "      <td>1</td>\n",
       "      <td>0</td>\n",
       "      <td>0</td>\n",
       "      <td>0</td>\n",
       "      <td>0</td>\n",
       "      <td>0</td>\n",
       "      <td>0</td>\n",
       "      <td>175</td>\n",
       "      <td>315300</td>\n",
       "      <td>100000</td>\n",
       "    </tr>\n",
       "    <tr>\n",
       "      <th>3</th>\n",
       "      <td>65</td>\n",
       "      <td>0</td>\n",
       "      <td>1</td>\n",
       "      <td>0</td>\n",
       "      <td>0</td>\n",
       "      <td>0</td>\n",
       "      <td>0</td>\n",
       "      <td>0</td>\n",
       "      <td>233</td>\n",
       "      <td>318800</td>\n",
       "      <td>0</td>\n",
       "    </tr>\n",
       "    <tr>\n",
       "      <th>4</th>\n",
       "      <td>73</td>\n",
       "      <td>0</td>\n",
       "      <td>0</td>\n",
       "      <td>0</td>\n",
       "      <td>1</td>\n",
       "      <td>0</td>\n",
       "      <td>0</td>\n",
       "      <td>0</td>\n",
       "      <td>157</td>\n",
       "      <td>220800</td>\n",
       "      <td>19000</td>\n",
       "    </tr>\n",
       "    <tr>\n",
       "      <th>5</th>\n",
       "      <td>79</td>\n",
       "      <td>1</td>\n",
       "      <td>0</td>\n",
       "      <td>0</td>\n",
       "      <td>0</td>\n",
       "      <td>0</td>\n",
       "      <td>0</td>\n",
       "      <td>0</td>\n",
       "      <td>66</td>\n",
       "      <td>263360</td>\n",
       "      <td>0</td>\n",
       "    </tr>\n",
       "  </tbody>\n",
       "</table>\n",
       "</div>"
      ],
      "text/plain": [
       "       edad  Empleado  Emprend  NoOcup  Jornalero  businessowner  numproperty  \\\n",
       "folio                                                                           \n",
       "1        62         0        0       0          1              0            1   \n",
       "2        71         1        0       0          0              0            0   \n",
       "3        65         0        1       0          0              0            0   \n",
       "4        73         0        0       0          1              0            0   \n",
       "5        79         1        0       0          0              0            0   \n",
       "\n",
       "       numdepatar  mtcuad  IngresoTotal  MontDeudCredNoHip  \n",
       "folio                                                       \n",
       "1               0     233        125200                  0  \n",
       "2               0     175        315300             100000  \n",
       "3               0     233        318800                  0  \n",
       "4               0     157        220800              19000  \n",
       "5               0      66        263360                  0  "
      ]
     },
     "execution_count": 23,
     "metadata": {},
     "output_type": "execute_result"
    }
   ],
   "source": [
    "mldf = df[['edad','Empleado','Emprend','NoOcup','Jornalero','businessowner','numproperty','numdepatar','mtcuad','IngresoTotal','MontDeudCredNoHip']].copy()\n",
    "mldf.head()\n"
   ]
  },
  {
   "cell_type": "code",
   "execution_count": 24,
   "id": "42372830-0ef5-4f93-95ae-d1605875d13a",
   "metadata": {
    "collapsed": true,
    "jupyter": {
     "outputs_hidden": true
    },
    "tags": []
   },
   "outputs": [
    {
     "name": "stderr",
     "output_type": "stream",
     "text": [
      "C:\\ProgramData\\anaconda3\\Lib\\site-packages\\sklearn\\cluster\\_kmeans.py:1412: FutureWarning: The default value of `n_init` will change from 10 to 'auto' in 1.4. Set the value of `n_init` explicitly to suppress the warning\n",
      "  super()._check_params_vs_input(X, default_n_init=10)\n",
      "C:\\ProgramData\\anaconda3\\Lib\\site-packages\\sklearn\\metrics\\cluster\\_supervised.py:66: UserWarning: Clustering metrics expects discrete values but received multiclass values for label, and continuous values for target\n",
      "  warnings.warn(msg, UserWarning)\n",
      "C:\\ProgramData\\anaconda3\\Lib\\site-packages\\sklearn\\metrics\\cluster\\_supervised.py:66: UserWarning: Clustering metrics expects discrete values but received multiclass values for label, and continuous values for target\n",
      "  warnings.warn(msg, UserWarning)\n",
      "C:\\ProgramData\\anaconda3\\Lib\\site-packages\\sklearn\\metrics\\cluster\\_supervised.py:66: UserWarning: Clustering metrics expects discrete values but received multiclass values for label, and continuous values for target\n",
      "  warnings.warn(msg, UserWarning)\n",
      "C:\\ProgramData\\anaconda3\\Lib\\site-packages\\sklearn\\metrics\\cluster\\_supervised.py:66: UserWarning: Clustering metrics expects discrete values but received multiclass values for label, and continuous values for target\n",
      "  warnings.warn(msg, UserWarning)\n",
      "C:\\ProgramData\\anaconda3\\Lib\\site-packages\\sklearn\\metrics\\cluster\\_supervised.py:66: UserWarning: Clustering metrics expects discrete values but received multiclass values for label, and continuous values for target\n",
      "  warnings.warn(msg, UserWarning)\n",
      "C:\\ProgramData\\anaconda3\\Lib\\site-packages\\sklearn\\metrics\\cluster\\_supervised.py:66: UserWarning: Clustering metrics expects discrete values but received multiclass values for label, and continuous values for target\n",
      "  warnings.warn(msg, UserWarning)\n",
      "C:\\ProgramData\\anaconda3\\Lib\\site-packages\\sklearn\\metrics\\cluster\\_supervised.py:66: UserWarning: Clustering metrics expects discrete values but received multiclass values for label, and continuous values for target\n",
      "  warnings.warn(msg, UserWarning)\n",
      "C:\\ProgramData\\anaconda3\\Lib\\site-packages\\sklearn\\metrics\\cluster\\_supervised.py:66: UserWarning: Clustering metrics expects discrete values but received multiclass values for label, and continuous values for target\n",
      "  warnings.warn(msg, UserWarning)\n",
      "C:\\ProgramData\\anaconda3\\Lib\\site-packages\\sklearn\\metrics\\cluster\\_supervised.py:66: UserWarning: Clustering metrics expects discrete values but received multiclass values for label, and continuous values for target\n",
      "  warnings.warn(msg, UserWarning)\n",
      "C:\\ProgramData\\anaconda3\\Lib\\site-packages\\sklearn\\metrics\\cluster\\_supervised.py:66: UserWarning: Clustering metrics expects discrete values but received multiclass values for label, and continuous values for target\n",
      "  warnings.warn(msg, UserWarning)\n",
      "C:\\ProgramData\\anaconda3\\Lib\\site-packages\\sklearn\\metrics\\cluster\\_supervised.py:66: UserWarning: Clustering metrics expects discrete values but received multiclass values for label, and continuous values for target\n",
      "  warnings.warn(msg, UserWarning)\n"
     ]
    }
   ],
   "source": [
    "X = mldf\n",
    "# Standardize the features\n",
    "X_scaled = StandardScaler().fit_transform(X)\n",
    "\n",
    "# Fit KMeans clustering\n",
    "n_clusters = 5  # Adjust based on your needs\n",
    "kmeans = KMeans(n_clusters=n_clusters)\n",
    "clusters = kmeans.fit_predict(X_scaled)\n",
    "\n",
    "# Calculate Mutual Information for each feature with respect to cluster assignments\n",
    "mutual_info_scores = [mutual_info_score(clusters, X_scaled[:, i]) for i in range(X_scaled.shape[1])]\n",
    "\n"
   ]
  },
  {
   "cell_type": "code",
   "execution_count": 26,
   "id": "78da9f52-ebd2-4203-b745-46fa327e6932",
   "metadata": {
    "tags": []
   },
   "outputs": [
    {
     "name": "stdout",
     "output_type": "stream",
     "text": [
      "*  Emprend, 0.4328186075706855\n",
      "*  IngresoTotal, 0.385631580292605\n",
      "*  Empleado, 0.35280233287760143\n",
      "*  Jornalero, 0.3521814640491855\n",
      "*  NoOcup, 0.3318274795758914\n",
      "*  businessowner, 0.26621914233441835\n",
      "*  MontDeudCredNoHip, 0.19282013567821044\n",
      "*  mtcuad, 0.09450437654241534\n",
      "*  edad, 0.07077366806706502\n",
      "*  numproperty, 0.013501913452226642\n",
      "*  numdepatar, 0.002519338203973518\n"
     ]
    }
   ],
   "source": [
    "# Pair features with their Mutual Information scores and sort by scores\n",
    "feature_mi_pairs = sorted(zip(X.columns, mutual_info_scores), key=lambda x: x[1], reverse=True)\n",
    "\n",
    "# Print or visualize sorted Mutual Information scores\n",
    "for feature, mi_score in feature_mi_pairs:\n",
    "    print(f\"*  {feature}, {mi_score}\")"
   ]
  },
  {
   "cell_type": "code",
   "execution_count": 27,
   "id": "8cccd24a-9ca2-49e4-9978-2dd0e9ecfbe8",
   "metadata": {
    "tags": []
   },
   "outputs": [],
   "source": [
    "from sklearn.preprocessing import StandardScaler\n",
    "from sklearn.cluster import KMeans\n",
    "from sklearn.metrics import silhouette_score"
   ]
  },
  {
   "cell_type": "code",
   "execution_count": 28,
   "id": "6126a942-7215-471c-ae6e-07500b45f54f",
   "metadata": {
    "collapsed": true,
    "jupyter": {
     "outputs_hidden": true
    },
    "tags": []
   },
   "outputs": [
    {
     "name": "stdout",
     "output_type": "stream",
     "text": [
      "range2\n"
     ]
    },
    {
     "name": "stderr",
     "output_type": "stream",
     "text": [
      "C:\\ProgramData\\anaconda3\\Lib\\site-packages\\sklearn\\cluster\\_kmeans.py:1412: FutureWarning: The default value of `n_init` will change from 10 to 'auto' in 1.4. Set the value of `n_init` explicitly to suppress the warning\n",
      "  super()._check_params_vs_input(X, default_n_init=10)\n"
     ]
    },
    {
     "name": "stdout",
     "output_type": "stream",
     "text": [
      "range3\n"
     ]
    },
    {
     "name": "stderr",
     "output_type": "stream",
     "text": [
      "C:\\ProgramData\\anaconda3\\Lib\\site-packages\\sklearn\\cluster\\_kmeans.py:1412: FutureWarning: The default value of `n_init` will change from 10 to 'auto' in 1.4. Set the value of `n_init` explicitly to suppress the warning\n",
      "  super()._check_params_vs_input(X, default_n_init=10)\n"
     ]
    },
    {
     "name": "stdout",
     "output_type": "stream",
     "text": [
      "range4\n"
     ]
    },
    {
     "name": "stderr",
     "output_type": "stream",
     "text": [
      "C:\\ProgramData\\anaconda3\\Lib\\site-packages\\sklearn\\cluster\\_kmeans.py:1412: FutureWarning: The default value of `n_init` will change from 10 to 'auto' in 1.4. Set the value of `n_init` explicitly to suppress the warning\n",
      "  super()._check_params_vs_input(X, default_n_init=10)\n"
     ]
    },
    {
     "name": "stdout",
     "output_type": "stream",
     "text": [
      "range5\n"
     ]
    },
    {
     "name": "stderr",
     "output_type": "stream",
     "text": [
      "C:\\ProgramData\\anaconda3\\Lib\\site-packages\\sklearn\\cluster\\_kmeans.py:1412: FutureWarning: The default value of `n_init` will change from 10 to 'auto' in 1.4. Set the value of `n_init` explicitly to suppress the warning\n",
      "  super()._check_params_vs_input(X, default_n_init=10)\n"
     ]
    },
    {
     "name": "stdout",
     "output_type": "stream",
     "text": [
      "range6\n"
     ]
    },
    {
     "name": "stderr",
     "output_type": "stream",
     "text": [
      "C:\\ProgramData\\anaconda3\\Lib\\site-packages\\sklearn\\cluster\\_kmeans.py:1412: FutureWarning: The default value of `n_init` will change from 10 to 'auto' in 1.4. Set the value of `n_init` explicitly to suppress the warning\n",
      "  super()._check_params_vs_input(X, default_n_init=10)\n"
     ]
    },
    {
     "name": "stdout",
     "output_type": "stream",
     "text": [
      "range7\n"
     ]
    },
    {
     "name": "stderr",
     "output_type": "stream",
     "text": [
      "C:\\ProgramData\\anaconda3\\Lib\\site-packages\\sklearn\\cluster\\_kmeans.py:1412: FutureWarning: The default value of `n_init` will change from 10 to 'auto' in 1.4. Set the value of `n_init` explicitly to suppress the warning\n",
      "  super()._check_params_vs_input(X, default_n_init=10)\n"
     ]
    },
    {
     "name": "stdout",
     "output_type": "stream",
     "text": [
      "range8\n"
     ]
    },
    {
     "name": "stderr",
     "output_type": "stream",
     "text": [
      "C:\\ProgramData\\anaconda3\\Lib\\site-packages\\sklearn\\cluster\\_kmeans.py:1412: FutureWarning: The default value of `n_init` will change from 10 to 'auto' in 1.4. Set the value of `n_init` explicitly to suppress the warning\n",
      "  super()._check_params_vs_input(X, default_n_init=10)\n"
     ]
    },
    {
     "name": "stdout",
     "output_type": "stream",
     "text": [
      "range9\n"
     ]
    },
    {
     "name": "stderr",
     "output_type": "stream",
     "text": [
      "C:\\ProgramData\\anaconda3\\Lib\\site-packages\\sklearn\\cluster\\_kmeans.py:1412: FutureWarning: The default value of `n_init` will change from 10 to 'auto' in 1.4. Set the value of `n_init` explicitly to suppress the warning\n",
      "  super()._check_params_vs_input(X, default_n_init=10)\n"
     ]
    },
    {
     "name": "stdout",
     "output_type": "stream",
     "text": [
      "range10\n"
     ]
    },
    {
     "name": "stderr",
     "output_type": "stream",
     "text": [
      "C:\\ProgramData\\anaconda3\\Lib\\site-packages\\sklearn\\cluster\\_kmeans.py:1412: FutureWarning: The default value of `n_init` will change from 10 to 'auto' in 1.4. Set the value of `n_init` explicitly to suppress the warning\n",
      "  super()._check_params_vs_input(X, default_n_init=10)\n"
     ]
    }
   ],
   "source": [
    "\n",
    "# Initialize a range of cluster numbers to test\n",
    "cluster_range = range(2, 11)  # Adjust the range based on your needs\n",
    "\n",
    "# Elbow Method: Calculate the sum of squared distances (inertia) for different cluster numbers\n",
    "inertia = []\n",
    "for n_clusters in cluster_range:\n",
    "    print('range'+ str(n_clusters))\n",
    "    kmeans = KMeans(n_clusters=n_clusters, random_state=42)\n",
    "    kmeans.fit(mldf)\n",
    "    inertia.append(kmeans.inertia_)\n"
   ]
  },
  {
   "cell_type": "code",
   "execution_count": 29,
   "id": "110bf182-0cb7-4086-8681-f5cbc0cae943",
   "metadata": {
    "tags": []
   },
   "outputs": [
    {
     "data": {
      "image/png": "[encoded data removed]",
      "text/plain": [
       "<Figure size 640x480 with 1 Axes>"
      ]
     },
     "metadata": {},
     "output_type": "display_data"
    }
   ],
   "source": [
    "# Plot the Elbow Method curve\n",
    "plt.plot(cluster_range, inertia, marker='o')\n",
    "plt.title('Elbow Method for Optimal Cluster Number')\n",
    "plt.xlabel('Number of Clusters')\n",
    "plt.ylabel('Sum of Squared Distances (Inertia)')\n",
    "plt.show()\n"
   ]
  },
  {
   "cell_type": "code",
   "execution_count": 30,
   "id": "42dd8df7-0cd1-4a30-a88b-27fee336a833",
   "metadata": {
    "collapsed": true,
    "jupyter": {
     "outputs_hidden": true
    },
    "tags": []
   },
   "outputs": [
    {
     "name": "stderr",
     "output_type": "stream",
     "text": [
      "C:\\ProgramData\\anaconda3\\Lib\\site-packages\\sklearn\\cluster\\_kmeans.py:1412: FutureWarning: The default value of `n_init` will change from 10 to 'auto' in 1.4. Set the value of `n_init` explicitly to suppress the warning\n",
      "  super()._check_params_vs_input(X, default_n_init=10)\n",
      "C:\\ProgramData\\anaconda3\\Lib\\site-packages\\sklearn\\cluster\\_kmeans.py:1412: FutureWarning: The default value of `n_init` will change from 10 to 'auto' in 1.4. Set the value of `n_init` explicitly to suppress the warning\n",
      "  super()._check_params_vs_input(X, default_n_init=10)\n",
      "C:\\ProgramData\\anaconda3\\Lib\\site-packages\\sklearn\\cluster\\_kmeans.py:1412: FutureWarning: The default value of `n_init` will change from 10 to 'auto' in 1.4. Set the value of `n_init` explicitly to suppress the warning\n",
      "  super()._check_params_vs_input(X, default_n_init=10)\n",
      "C:\\ProgramData\\anaconda3\\Lib\\site-packages\\sklearn\\cluster\\_kmeans.py:1412: FutureWarning: The default value of `n_init` will change from 10 to 'auto' in 1.4. Set the value of `n_init` explicitly to suppress the warning\n",
      "  super()._check_params_vs_input(X, default_n_init=10)\n",
      "C:\\ProgramData\\anaconda3\\Lib\\site-packages\\sklearn\\cluster\\_kmeans.py:1412: FutureWarning: The default value of `n_init` will change from 10 to 'auto' in 1.4. Set the value of `n_init` explicitly to suppress the warning\n",
      "  super()._check_params_vs_input(X, default_n_init=10)\n",
      "C:\\ProgramData\\anaconda3\\Lib\\site-packages\\sklearn\\cluster\\_kmeans.py:1412: FutureWarning: The default value of `n_init` will change from 10 to 'auto' in 1.4. Set the value of `n_init` explicitly to suppress the warning\n",
      "  super()._check_params_vs_input(X, default_n_init=10)\n",
      "C:\\ProgramData\\anaconda3\\Lib\\site-packages\\sklearn\\cluster\\_kmeans.py:1412: FutureWarning: The default value of `n_init` will change from 10 to 'auto' in 1.4. Set the value of `n_init` explicitly to suppress the warning\n",
      "  super()._check_params_vs_input(X, default_n_init=10)\n",
      "C:\\ProgramData\\anaconda3\\Lib\\site-packages\\sklearn\\cluster\\_kmeans.py:1412: FutureWarning: The default value of `n_init` will change from 10 to 'auto' in 1.4. Set the value of `n_init` explicitly to suppress the warning\n",
      "  super()._check_params_vs_input(X, default_n_init=10)\n",
      "C:\\ProgramData\\anaconda3\\Lib\\site-packages\\sklearn\\cluster\\_kmeans.py:1412: FutureWarning: The default value of `n_init` will change from 10 to 'auto' in 1.4. Set the value of `n_init` explicitly to suppress the warning\n",
      "  super()._check_params_vs_input(X, default_n_init=10)\n"
     ]
    }
   ],
   "source": [
    "# Silhouette Score: Calculate the silhouette score for different cluster numbers\n",
    "silhouette_scores = []\n",
    "for n_clusters in cluster_range:\n",
    "    kmeans = KMeans(n_clusters=n_clusters, random_state=42)\n",
    "    clusters = kmeans.fit_predict(mldf)\n",
    "    silhouette_scores.append(silhouette_score(mldf, clusters))\n"
   ]
  },
  {
   "cell_type": "code",
   "execution_count": 32,
   "id": "460b13b0-af12-4efd-8fc4-239f43b220fc",
   "metadata": {
    "tags": []
   },
   "outputs": [
    {
     "data": {
      "text/plain": [
       "[0.9776747549998127,\n",
       " 0.7093677313016507,\n",
       " 0.6105141906878794,\n",
       " 0.5922070144301077,\n",
       " 0.5499668089997791,\n",
       " 0.5593722334859964,\n",
       " 0.5207220391296735,\n",
       " 0.4768948406223737,\n",
       " 0.48644194888793607]"
      ]
     },
     "execution_count": 32,
     "metadata": {},
     "output_type": "execute_result"
    }
   ],
   "source": [
    "silhouette_scores"
   ]
  },
  {
   "cell_type": "code",
   "execution_count": 31,
   "id": "dc2343f1-6b41-4b3e-ba6e-f3e04fb4ddf4",
   "metadata": {
    "tags": []
   },
   "outputs": [
    {
     "data": {
      "image/png": "[encoded data removed]",
      "text/plain": [
       "<Figure size 640x480 with 1 Axes>"
      ]
     },
     "metadata": {},
     "output_type": "display_data"
    }
   ],
   "source": [
    "# Plot the Silhouette Score curve\n",
    "plt.plot(cluster_range, silhouette_scores, marker='o')\n",
    "plt.title('Silhouette Score for Optimal Cluster Number')\n",
    "plt.xlabel('Number of Clusters')\n",
    "plt.ylabel('Silhouette Score')\n",
    "plt.show()"
   ]
  },
  {
   "cell_type": "markdown",
   "id": "310c6cc1-53d0-46a8-9b1c-8cabdd39e619",
   "metadata": {},
   "source": [
    "## Creation of model"
   ]
  },
  {
   "cell_type": "code",
   "execution_count": 33,
   "id": "3dc0351b-c7c1-4b40-99e0-d799022d141b",
   "metadata": {
    "tags": []
   },
   "outputs": [
    {
     "name": "stderr",
     "output_type": "stream",
     "text": [
      "C:\\ProgramData\\anaconda3\\Lib\\site-packages\\sklearn\\cluster\\_kmeans.py:1412: FutureWarning: The default value of `n_init` will change from 10 to 'auto' in 1.4. Set the value of `n_init` explicitly to suppress the warning\n",
      "  super()._check_params_vs_input(X, default_n_init=10)\n"
     ]
    },
    {
     "data": {
      "text/plain": [
       "['kmeans_model.joblib']"
      ]
     },
     "execution_count": 33,
     "metadata": {},
     "output_type": "execute_result"
    }
   ],
   "source": [
    "import joblib\n",
    "\n",
    "# Assuming you have already trained the KMeans model with the optimal number of clusters\n",
    "kmeans = KMeans(n_clusters=4, random_state=42)\n",
    "kmeans.fit(mldf)\n",
    "\n",
    "# Save the model to a file\n",
    "joblib.dump(kmeans, 'kmeans_model.joblib')"
   ]
  },
  {
   "cell_type": "markdown",
   "id": "e453c17b-e5b0-4622-b5db-6f0e0cc47d2c",
   "metadata": {
    "tags": []
   },
   "source": [
    "## Re-loading model and making a prediction"
   ]
  },
  {
   "cell_type": "code",
   "execution_count": 34,
   "id": "c4f9c04e-4deb-4cbd-85d2-8836eb37c52b",
   "metadata": {
    "tags": []
   },
   "outputs": [
    {
     "name": "stdout",
     "output_type": "stream",
     "text": [
      "Predicted Cluster Labels: [0]\n"
     ]
    },
    {
     "name": "stderr",
     "output_type": "stream",
     "text": [
      "C:\\ProgramData\\anaconda3\\Lib\\site-packages\\sklearn\\base.py:464: UserWarning: X does not have valid feature names, but KMeans was fitted with feature names\n",
      "  warnings.warn(\n"
     ]
    }
   ],
   "source": [
    "# Load the model from the file\n",
    "loaded_kmeans = joblib.load('kmeans_model.joblib')\n",
    "\n",
    "# Create a sample data array for prediction (replace with your actual data)\n",
    "sample_data = [[23,0,0,0,0,1,2,2,323,120800,11000]]\n",
    "\n",
    "# Predict the cluster labels for the sample data\n",
    "predicted_clusters = loaded_kmeans.predict(sample_data)\n",
    "\n",
    "# Display the predicted cluster labels\n",
    "print(\"Predicted Cluster Labels:\", predicted_clusters)"
   ]
  },
  {
   "cell_type": "code",
   "execution_count": 35,
   "id": "e20e0b41-fab5-4043-9583-442e2e4032c7",
   "metadata": {
    "tags": []
   },
   "outputs": [
    {
     "data": {
      "text/html": [
       "<div>\n",
       "<style scoped>\n",
       "    .dataframe tbody tr th:only-of-type {\n",
       "        vertical-align: middle;\n",
       "    }\n",
       "\n",
       "    .dataframe tbody tr th {\n",
       "        vertical-align: top;\n",
       "    }\n",
       "\n",
       "    .dataframe thead th {\n",
       "        text-align: right;\n",
       "    }\n",
       "</style>\n",
       "<table border=\"1\" class=\"dataframe\">\n",
       "  <thead>\n",
       "    <tr style=\"text-align: right;\">\n",
       "      <th></th>\n",
       "      <th>edad</th>\n",
       "      <th>Empleado</th>\n",
       "      <th>Emprend</th>\n",
       "      <th>NoOcup</th>\n",
       "      <th>Jornalero</th>\n",
       "      <th>businessowner</th>\n",
       "      <th>numproperty</th>\n",
       "      <th>numdepatar</th>\n",
       "      <th>mtcuad</th>\n",
       "      <th>IngresoTotal</th>\n",
       "      <th>MontDeudCredNoHip</th>\n",
       "      <th>Cluster_Labels</th>\n",
       "    </tr>\n",
       "    <tr>\n",
       "      <th>folio</th>\n",
       "      <th></th>\n",
       "      <th></th>\n",
       "      <th></th>\n",
       "      <th></th>\n",
       "      <th></th>\n",
       "      <th></th>\n",
       "      <th></th>\n",
       "      <th></th>\n",
       "      <th></th>\n",
       "      <th></th>\n",
       "      <th></th>\n",
       "      <th></th>\n",
       "    </tr>\n",
       "  </thead>\n",
       "  <tbody>\n",
       "    <tr>\n",
       "      <th>1</th>\n",
       "      <td>62</td>\n",
       "      <td>0</td>\n",
       "      <td>0</td>\n",
       "      <td>0</td>\n",
       "      <td>1</td>\n",
       "      <td>0</td>\n",
       "      <td>1</td>\n",
       "      <td>0</td>\n",
       "      <td>233</td>\n",
       "      <td>125200</td>\n",
       "      <td>0</td>\n",
       "      <td>0</td>\n",
       "    </tr>\n",
       "    <tr>\n",
       "      <th>2</th>\n",
       "      <td>71</td>\n",
       "      <td>1</td>\n",
       "      <td>0</td>\n",
       "      <td>0</td>\n",
       "      <td>0</td>\n",
       "      <td>0</td>\n",
       "      <td>0</td>\n",
       "      <td>0</td>\n",
       "      <td>175</td>\n",
       "      <td>315300</td>\n",
       "      <td>100000</td>\n",
       "      <td>1</td>\n",
       "    </tr>\n",
       "    <tr>\n",
       "      <th>3</th>\n",
       "      <td>65</td>\n",
       "      <td>0</td>\n",
       "      <td>1</td>\n",
       "      <td>0</td>\n",
       "      <td>0</td>\n",
       "      <td>0</td>\n",
       "      <td>0</td>\n",
       "      <td>0</td>\n",
       "      <td>233</td>\n",
       "      <td>318800</td>\n",
       "      <td>0</td>\n",
       "      <td>1</td>\n",
       "    </tr>\n",
       "    <tr>\n",
       "      <th>4</th>\n",
       "      <td>73</td>\n",
       "      <td>0</td>\n",
       "      <td>0</td>\n",
       "      <td>0</td>\n",
       "      <td>1</td>\n",
       "      <td>0</td>\n",
       "      <td>0</td>\n",
       "      <td>0</td>\n",
       "      <td>157</td>\n",
       "      <td>220800</td>\n",
       "      <td>19000</td>\n",
       "      <td>1</td>\n",
       "    </tr>\n",
       "    <tr>\n",
       "      <th>5</th>\n",
       "      <td>79</td>\n",
       "      <td>1</td>\n",
       "      <td>0</td>\n",
       "      <td>0</td>\n",
       "      <td>0</td>\n",
       "      <td>0</td>\n",
       "      <td>0</td>\n",
       "      <td>0</td>\n",
       "      <td>66</td>\n",
       "      <td>263360</td>\n",
       "      <td>0</td>\n",
       "      <td>1</td>\n",
       "    </tr>\n",
       "  </tbody>\n",
       "</table>\n",
       "</div>"
      ],
      "text/plain": [
       "       edad  Empleado  Emprend  NoOcup  Jornalero  businessowner  numproperty  \\\n",
       "folio                                                                           \n",
       "1        62         0        0       0          1              0            1   \n",
       "2        71         1        0       0          0              0            0   \n",
       "3        65         0        1       0          0              0            0   \n",
       "4        73         0        0       0          1              0            0   \n",
       "5        79         1        0       0          0              0            0   \n",
       "\n",
       "       numdepatar  mtcuad  IngresoTotal  MontDeudCredNoHip  Cluster_Labels  \n",
       "folio                                                                       \n",
       "1               0     233        125200                  0               0  \n",
       "2               0     175        315300             100000               1  \n",
       "3               0     233        318800                  0               1  \n",
       "4               0     157        220800              19000               1  \n",
       "5               0      66        263360                  0               1  "
      ]
     },
     "execution_count": 35,
     "metadata": {},
     "output_type": "execute_result"
    }
   ],
   "source": [
    "# Load the model from the file\n",
    "loaded_kmeans = joblib.load('kmeans_model.joblib')\n",
    "\n",
    "# Predict the cluster labels for the original dataset\n",
    "cluster_labels = loaded_kmeans.predict(mldf)\n",
    "\n",
    "# Create a new dataset with the original features and the cluster labels\n",
    "clustered_data = pd.DataFrame(data=mldf, columns=mldf.columns)\n",
    "clustered_data['Cluster_Labels'] = cluster_labels\n",
    "clustered_data.head()"
   ]
  },
  {
   "cell_type": "code",
   "execution_count": 36,
   "id": "d8d6d8ac-a323-4283-8512-231c58f55097",
   "metadata": {
    "tags": []
   },
   "outputs": [
    {
     "name": "stdout",
     "output_type": "stream",
     "text": [
      "                     edad  Empleado   Emprend    NoOcup  Jornalero  \\\n",
      "Cluster_Labels                                                       \n",
      "0               48.172549  0.466915  0.176897  0.123960   0.091694   \n",
      "1               49.604456  0.509889  0.103660  0.038645   0.187315   \n",
      "2               35.666667  0.166667  0.166667  0.000000   0.000000   \n",
      "3               51.913136  0.565678  0.072034  0.019068   0.199153   \n",
      "\n",
      "                businessowner  numproperty  numdepatar      mtcuad  \\\n",
      "Cluster_Labels                                                       \n",
      "0                    0.131775     0.173305    0.244013  238.300605   \n",
      "1                    0.169357     0.274608    0.375995  219.433735   \n",
      "2                    0.000000     0.166667    1.333333  177.333333   \n",
      "3                    0.311441     0.629237    0.646186  258.351695   \n",
      "\n",
      "                IngresoTotal  MontDeudCredNoHip  \n",
      "Cluster_Labels                                   \n",
      "0               9.536826e+04       10271.093269  \n",
      "1               3.397992e+05       52591.971130  \n",
      "2               1.047573e+07      137883.333333  \n",
      "3               9.665500e+05      155549.057203  \n"
     ]
    }
   ],
   "source": [
    "# Assuming 'clustered_data' contains your dataset with cluster labels\n",
    "cluster_means = clustered_data.groupby('Cluster_Labels').mean()\n",
    "\n",
    "# Display the mean values for each cluster\n",
    "print(cluster_means)"
   ]
  },
  {
   "cell_type": "code",
   "execution_count": null,
   "id": "754db29a-0706-40e7-b46d-2630ffa2cb54",
   "metadata": {},
   "outputs": [],
   "source": [
    "                     edad  Empleado   Emprend    NoOcup  Jornalero  \\\n",
    "Cluster_Labels                                                       \n",
    "0               48.172549  0.466915  0.176897  0.123960   0.091694   \n",
    "1               49.604456  0.509889  0.103660  0.038645   0.187315   \n",
    "2               35.666667  0.166667  0.166667  0.000000   0.000000   \n",
    "3               51.913136  0.565678  0.072034  0.019068   0.199153   \n",
    "\n",
    "                businessowner  numproperty  numdepatar      mtcuad  \\\n",
    "Cluster_Labels                                                       \n",
    "0                    0.131775     0.173305    0.244013  238.300605   \n",
    "1                    0.169357     0.274608    0.375995  219.433735   \n",
    "2                    0.000000     0.166667    1.333333  177.333333   \n",
    "3                    0.311441     0.629237    0.646186  258.351695   \n",
    "\n",
    "                IngresoTotal  MontDeudCredNoHip  \n",
    "Cluster_Labels                                   \n",
    "0               9.536826e+04       10271.093269  \n",
    "1               3.397992e+05       52591.971130  \n",
    "2               1.047573e+07      137883.333333  \n",
    "3               9.665500e+05      155549.057203 "
   ]
  },
  {
   "cell_type": "code",
   "execution_count": null,
   "id": "365523fc-4e8e-443a-b1d7-5642f3e576fb",
   "metadata": {},
   "outputs": [],
   "source": []
  },
  {
   "cell_type": "code",
   "execution_count": null,
   "id": "30e1dfd3-54bc-4252-a788-d837e7799313",
   "metadata": {},
   "outputs": [],
   "source": [
    "from sklearn.metrics import silhouette_score\n",
    "from sklearn.cluster import KMeans\n",
    "\n",
    "# Assuming your original dataset is stored in the variable 'X'\n",
    "X = df\n",
    "\n",
    "silhouette_scores = []\n",
    "\n",
    "for feature in X.columns:\n",
    "    # Use a single feature for clustering\n",
    "    X_single_feature = X[[feature]]\n",
    "    print(X_single_feature)\n",
    "    # Use KMeans for clustering\n",
    "    kmeans = KMeans(n_clusters=2)  # Adjust the number of clusters based on your needs\n",
    "    clusters = kmeans.fit_predict(X_single_feature)\n",
    "\n",
    "    # Check if there are at least two unique clusters\n",
    "    if len(set(clusters)) < 2:\n",
    "        continue\n",
    "\n",
    "    # Compute silhouette score\n",
    "    silhouette = silhouette_score(X_single_feature, clusters)\n",
    "    silhouette_scores.append((feature, silhouette))\n",
    "\n",
    "# Sort features based on silhouette score\n",
    "sorted_features = sorted(silhouette_scores, key=lambda x: x[1], reverse=True)\n",
    "\n",
    "# Select the top k features\n",
    "k = 10  # Adjust based on your needs\n",
    "selected_features = [feature[0] for feature in sorted_features[:k]]\n"
   ]
  },
  {
   "cell_type": "code",
   "execution_count": null,
   "id": "c6e1cf34-e283-4df9-a200-9b3127fdece2",
   "metadata": {},
   "outputs": [],
   "source": []
  },
  {
   "cell_type": "markdown",
   "id": "e76d180a-26b5-4a61-a5b0-aae13bc5593c",
   "metadata": {},
   "source": [
    "# Predicción de la capacidad de pago: \n",
    "El sistema debe poder predecir la capacidad de pago de un cliente"
   ]
  },
  {
   "cell_type": "code",
   "execution_count": null,
   "id": "cb48871e-db1a-46ff-9030-007838c0b198",
   "metadata": {},
   "outputs": [],
   "source": []
  },
  {
   "cell_type": "markdown",
   "id": "ad590b6c-9ee7-424d-80b4-62100d799a72",
   "metadata": {},
   "source": [
    "# Predeccion de capacidad de incumplimiento\n",
    "usando arboles de decision o regresion logistica con:\n",
    "\"alto riesgo\", \"riesgo medio\" y \"bajo riesgo\"."
   ]
  },
  {
   "cell_type": "code",
   "execution_count": null,
   "id": "374d6283-b0e5-47f2-bcd2-f352f0862b3d",
   "metadata": {},
   "outputs": [],
   "source": []
  }
 ],
 "metadata": {
  "kernelspec": {
   "display_name": "Python 3 (ipykernel)",
   "language": "python",
   "name": "python3"
  },
  "language_info": {
   "codemirror_mode": {
    "name": "ipython",
    "version": 3
   },
   "file_extension": ".py",
   "mimetype": "text/x-python",
   "name": "python",
   "nbconvert_exporter": "python",
   "pygments_lexer": "ipython3",
   "version": "3.11.5"
  }
 },
 "nbformat": 4,
 "nbformat_minor": 5
}
